import matplotlib.pyplot as plt
import seaborn as sns
import pandas as pd





type(1.5)


type(3)


type('abc')


type(True)





float(1)


str(1)


int('9')


int(9.9)





accidents = pd.read_csv('../data/Traffic_Accidents_2019.csv')


type(accidents)





accidents.info()


accidents.dtypes


accidents.head()








# Let's convert the 'Date and Time' column to a datetime and assign it back to itself
accidents['Date and Time'] = pd.to_datetime(accidents['Date and Time'])


# pd.to_datetime will infer the different date and time components of the string.
# If the datetime is in a strange format or you want to be explicit you can use the 'format' argument
# You will have to use datetime symbols: 
# https://docs.python.org/3/library/datetime.html#strftime-and-strptime-behavior

# It will take a second to run...


# Now the column is a datetime64[ns]
accidents.dtypes


# The values in the Date and Time column look different now
accidents.head()


# And we can see each value is a timestamp
accidents.loc[0, 'Date and Time']






accidents['month'] = accidents['Date and Time'].dt.month
accidents.head()





july_accidents = accidents[accidents['month']==7]
july_accidents.head()


july_accidents['Number of Motor Vehicles'].max()


july_accidents.nlargest(4, 'Number of Motor Vehicles')


#top of anything in a dataframe nlargest




# How many accidents happened in December?
(accidents['month']==12).sum()





accidents['Date and Time'].dt.time.head()


accidents['Date and Time'].dt.date.head()


accidents['Date and Time'].dt.weekday.head()


accidents['Date and Time'].dt.is_leap_year.head()





# How many accidents happened before March 3
sum(accidents['Date and Time'] < '03/03/2019')

# Note: You have to input the comparison value as a string,
# but the format can vary and pandas will attempt to infer the format.
# Try putting in different formats and rerunning this cell.





# How long between the 1st and 101th accident?
accidents = accidents.sort_values('Date and Time')
accidents.loc[100, 'Date and Time'] - accidents.loc[0, 'Date and Time']

# It appears as a Timedelta, or a change in time








players = pd.read_csv('/Users/jonathanfarro/Documents/NSS/Python/data/bbplayers.csv')
players.columns





players = players.rename(columns= {'inducted':'hall_of_fame'})




players = players.drop(columns =['playerid', 'birthyear', 'birthmonth', 'birthday', 'birthcountry',
                                 'birthstate', 'birthcity', 'deathyear', 'deathmonth', 'deathday',
                                 'deathcountry', 'deathstate', 'deathcity', 'namefirst', 'namelast',
                                 'namegiven', 'bats', 'throws','retroid', 'bbrefid',  
                                 'votedby', 'ballots', 'needed', 'votes', 'needed_note'])



players['debut'] = pd.to_datetime(players.debut)
players['finalgame'] = pd.to_datetime(players.finalgame)



players







players['final_vs_debut'] = (players.finalgame - players.debut)





)















