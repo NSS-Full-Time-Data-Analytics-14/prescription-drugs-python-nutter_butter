





import pandas as pd
import matplotlib.pyplot as plt
import seaborn as sns

%matplotlib inline








schools = pd.read_csv('../data/schools_clean.csv')
schools.head(2)


schools.tail(2)


schools.shape





schools.columns





first_five = schools.iloc[0:5, 0:2]


first_five





middle_schools = schools.loc[schools['level'] == 'Middle School'].head()
middle_schools.shape


middle_schools.head()


econ_disadv_over_200 = schools.loc[schools.econ_disadv > 200]
econ_disadv_over_200.shape


econ_disadv_over_200.head(3)





my_list = [37201, 37203]
downtown_schools = schools.loc[schools.zipcode.isin(my_list)]
downtown_schools.shape


downtown_schools.head()


school_and_type = schools[['name', 'level']]
school_and_type.head(2)





schools.columns


school_and_gender_counts = schools.drop(columns = ['native_amer', 'asian', 'black', 'hisp', 'p_islander', 'white', 
                                              'econ_disadv', 'disabled', 'limited_eng', 'lat', 'lng'])


school_and_gender_counts.columns





school_and_type.columns


school_and_type.columns = ['school', 'type']
school_and_type.head()





school_and_gender_counts = school_and_gender_counts.rename(columns = {'level': 'type', 'name': 'school'})
school_and_gender_counts.head()








high_schools = schools.loc[schools['level'] == 'High School']
high_schools.head()





high_schools.columns
high_schools = high_schools.drop(columns = ['grade_k', 'grade_1', 'grade_2', 'grade_3',
       'grade_4', 'grade_5', 'grade_6', 'grade_7', 'grade_8'])









my_zip_codes = [37203,37013] 
my_zip_codes = schools.loc[schools.zipcode.isin(my_zip_codes)]
my_zip_codes.head()





my_zip_codes = my_zip_codes.rename(columns = {'level' : 'high_school'})
my_zip_codes.head()





my_zip_codes.shape




