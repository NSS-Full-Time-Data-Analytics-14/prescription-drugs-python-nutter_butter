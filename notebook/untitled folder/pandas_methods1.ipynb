{
 "cells": [
  {
   "cell_type": "markdown",
   "metadata": {},
   "source": [
    "### The Anatomy Of A Dataframe\n",
    "![Dataframe Anatomy](../images/dataframe-anatomy.png)"
   ]
  },
  {
   "cell_type": "markdown",
   "metadata": {},
   "source": [
    "### pandas is a python library for working with dataframes\n",
    "- get familiar with using the [API reference](https://pandas.pydata.org/pandas-docs/stable/reference/index.html#api), which gives information about the many objects, functions and methods for working with dataframes and series\n",
    "\n"
   ]
  },
  {
   "cell_type": "code",
   "execution_count": 8,
   "metadata": {},
   "outputs": [],
   "source": [
    "import pandas as pd\n",
    "import matplotlib.pyplot as plt\n",
    "import seaborn as sns\n",
    "\n",
    "%matplotlib inline"
   ]
  },
  {
   "cell_type": "markdown",
   "metadata": {},
   "source": [
    "### Let's explore these pandas methods, attributes, and accessors\n",
    " - read_csv( )\n",
    " - .shape\n",
    " - .head( )\n",
    " - .tail( )\n",
    " - .columns\n",
    " - .drop( )\n",
    " - .rename( )\n",
    " - .loc[]\n",
    " - .isin( )\n",
    " - .iloc[ ]\n",
    " - [[ ]]"
   ]
  },
  {
   "cell_type": "markdown",
   "metadata": {},
   "source": [
    "### Read in the schools data, a CSV file, and examine the shape, head, and tail"
   ]
  },
  {
   "cell_type": "code",
   "execution_count": 11,
   "metadata": {},
   "outputs": [
    {
     "data": {
      "text/html": [
       "<div>\n",
       "<style scoped>\n",
       "    .dataframe tbody tr th:only-of-type {\n",
       "        vertical-align: middle;\n",
       "    }\n",
       "\n",
       "    .dataframe tbody tr th {\n",
       "        vertical-align: top;\n",
       "    }\n",
       "\n",
       "    .dataframe thead th {\n",
       "        text-align: right;\n",
       "    }\n",
       "</style>\n",
       "<table border=\"1\" class=\"dataframe\">\n",
       "  <thead>\n",
       "    <tr style=\"text-align: right;\">\n",
       "      <th></th>\n",
       "      <th>level</th>\n",
       "      <th>name</th>\n",
       "      <th>zipcode</th>\n",
       "      <th>grade_k</th>\n",
       "      <th>grade_1</th>\n",
       "      <th>grade_2</th>\n",
       "      <th>grade_3</th>\n",
       "      <th>grade_4</th>\n",
       "      <th>grade_5</th>\n",
       "      <th>grade_6</th>\n",
       "      <th>...</th>\n",
       "      <th>hisp</th>\n",
       "      <th>p_islander</th>\n",
       "      <th>white</th>\n",
       "      <th>male</th>\n",
       "      <th>female</th>\n",
       "      <th>econ_disadv</th>\n",
       "      <th>disabled</th>\n",
       "      <th>limited_eng</th>\n",
       "      <th>lat</th>\n",
       "      <th>lng</th>\n",
       "    </tr>\n",
       "  </thead>\n",
       "  <tbody>\n",
       "    <tr>\n",
       "      <th>0</th>\n",
       "      <td>Elementary School</td>\n",
       "      <td>A. Z. Kelley Elementary</td>\n",
       "      <td>37013</td>\n",
       "      <td>153.0</td>\n",
       "      <td>145.0</td>\n",
       "      <td>149.0</td>\n",
       "      <td>180.0</td>\n",
       "      <td>184.0</td>\n",
       "      <td>NaN</td>\n",
       "      <td>NaN</td>\n",
       "      <td>...</td>\n",
       "      <td>206</td>\n",
       "      <td>1.0</td>\n",
       "      <td>212.0</td>\n",
       "      <td>431</td>\n",
       "      <td>421</td>\n",
       "      <td>261</td>\n",
       "      <td>75.0</td>\n",
       "      <td>298.0</td>\n",
       "      <td>36.021817</td>\n",
       "      <td>-86.658848</td>\n",
       "    </tr>\n",
       "    <tr>\n",
       "      <th>1</th>\n",
       "      <td>Elementary School</td>\n",
       "      <td>Alex Green Elementary</td>\n",
       "      <td>37189</td>\n",
       "      <td>42.0</td>\n",
       "      <td>50.0</td>\n",
       "      <td>44.0</td>\n",
       "      <td>38.0</td>\n",
       "      <td>24.0</td>\n",
       "      <td>NaN</td>\n",
       "      <td>NaN</td>\n",
       "      <td>...</td>\n",
       "      <td>29</td>\n",
       "      <td>1.0</td>\n",
       "      <td>21.0</td>\n",
       "      <td>115</td>\n",
       "      <td>119</td>\n",
       "      <td>153</td>\n",
       "      <td>21.0</td>\n",
       "      <td>25.0</td>\n",
       "      <td>36.252961</td>\n",
       "      <td>-86.832229</td>\n",
       "    </tr>\n",
       "  </tbody>\n",
       "</table>\n",
       "<p>2 rows × 29 columns</p>\n",
       "</div>"
      ],
      "text/plain": [
       "               level                     name  zipcode  grade_k  grade_1  \\\n",
       "0  Elementary School  A. Z. Kelley Elementary    37013    153.0    145.0   \n",
       "1  Elementary School    Alex Green Elementary    37189     42.0     50.0   \n",
       "\n",
       "   grade_2  grade_3  grade_4  grade_5  grade_6  ...  hisp  p_islander  white  \\\n",
       "0    149.0    180.0    184.0      NaN      NaN  ...   206         1.0  212.0   \n",
       "1     44.0     38.0     24.0      NaN      NaN  ...    29         1.0   21.0   \n",
       "\n",
       "   male  female  econ_disadv  disabled  limited_eng        lat        lng  \n",
       "0   431     421          261      75.0        298.0  36.021817 -86.658848  \n",
       "1   115     119          153      21.0         25.0  36.252961 -86.832229  \n",
       "\n",
       "[2 rows x 29 columns]"
      ]
     },
     "execution_count": 11,
     "metadata": {},
     "output_type": "execute_result"
    }
   ],
   "source": [
    "schools = pd.read_csv('../data/schools_clean.csv')\n",
    "schools.head(2)"
   ]
  },
  {
   "cell_type": "code",
   "execution_count": 12,
   "metadata": {},
   "outputs": [
    {
     "data": {
      "text/html": [
       "<div>\n",
       "<style scoped>\n",
       "    .dataframe tbody tr th:only-of-type {\n",
       "        vertical-align: middle;\n",
       "    }\n",
       "\n",
       "    .dataframe tbody tr th {\n",
       "        vertical-align: top;\n",
       "    }\n",
       "\n",
       "    .dataframe thead th {\n",
       "        text-align: right;\n",
       "    }\n",
       "</style>\n",
       "<table border=\"1\" class=\"dataframe\">\n",
       "  <thead>\n",
       "    <tr style=\"text-align: right;\">\n",
       "      <th></th>\n",
       "      <th>level</th>\n",
       "      <th>name</th>\n",
       "      <th>zipcode</th>\n",
       "      <th>grade_k</th>\n",
       "      <th>grade_1</th>\n",
       "      <th>grade_2</th>\n",
       "      <th>grade_3</th>\n",
       "      <th>grade_4</th>\n",
       "      <th>grade_5</th>\n",
       "      <th>grade_6</th>\n",
       "      <th>...</th>\n",
       "      <th>hisp</th>\n",
       "      <th>p_islander</th>\n",
       "      <th>white</th>\n",
       "      <th>male</th>\n",
       "      <th>female</th>\n",
       "      <th>econ_disadv</th>\n",
       "      <th>disabled</th>\n",
       "      <th>limited_eng</th>\n",
       "      <th>lat</th>\n",
       "      <th>lng</th>\n",
       "    </tr>\n",
       "  </thead>\n",
       "  <tbody>\n",
       "    <tr>\n",
       "      <th>165</th>\n",
       "      <td>Middle School</td>\n",
       "      <td>William Henry Oliver Middle</td>\n",
       "      <td>37211</td>\n",
       "      <td>NaN</td>\n",
       "      <td>NaN</td>\n",
       "      <td>NaN</td>\n",
       "      <td>NaN</td>\n",
       "      <td>NaN</td>\n",
       "      <td>231.0</td>\n",
       "      <td>271.0</td>\n",
       "      <td>...</td>\n",
       "      <td>158</td>\n",
       "      <td>3.0</td>\n",
       "      <td>437.0</td>\n",
       "      <td>487</td>\n",
       "      <td>498</td>\n",
       "      <td>252</td>\n",
       "      <td>112.0</td>\n",
       "      <td>231.0</td>\n",
       "      <td>36.020174</td>\n",
       "      <td>-86.712207</td>\n",
       "    </tr>\n",
       "    <tr>\n",
       "      <th>166</th>\n",
       "      <td>Middle School</td>\n",
       "      <td>Wright Middle</td>\n",
       "      <td>37211</td>\n",
       "      <td>NaN</td>\n",
       "      <td>NaN</td>\n",
       "      <td>NaN</td>\n",
       "      <td>NaN</td>\n",
       "      <td>NaN</td>\n",
       "      <td>188.0</td>\n",
       "      <td>216.0</td>\n",
       "      <td>...</td>\n",
       "      <td>534</td>\n",
       "      <td>1.0</td>\n",
       "      <td>104.0</td>\n",
       "      <td>443</td>\n",
       "      <td>367</td>\n",
       "      <td>400</td>\n",
       "      <td>75.0</td>\n",
       "      <td>536.0</td>\n",
       "      <td>36.100109</td>\n",
       "      <td>-86.734133</td>\n",
       "    </tr>\n",
       "  </tbody>\n",
       "</table>\n",
       "<p>2 rows × 29 columns</p>\n",
       "</div>"
      ],
      "text/plain": [
       "             level                         name  zipcode  grade_k  grade_1  \\\n",
       "165  Middle School  William Henry Oliver Middle    37211      NaN      NaN   \n",
       "166  Middle School                Wright Middle    37211      NaN      NaN   \n",
       "\n",
       "     grade_2  grade_3  grade_4  grade_5  grade_6  ...  hisp  p_islander  \\\n",
       "165      NaN      NaN      NaN    231.0    271.0  ...   158         3.0   \n",
       "166      NaN      NaN      NaN    188.0    216.0  ...   534         1.0   \n",
       "\n",
       "     white  male  female  econ_disadv  disabled  limited_eng        lat  \\\n",
       "165  437.0   487     498          252     112.0        231.0  36.020174   \n",
       "166  104.0   443     367          400      75.0        536.0  36.100109   \n",
       "\n",
       "           lng  \n",
       "165 -86.712207  \n",
       "166 -86.734133  \n",
       "\n",
       "[2 rows x 29 columns]"
      ]
     },
     "execution_count": 12,
     "metadata": {},
     "output_type": "execute_result"
    }
   ],
   "source": [
    "schools.tail(2)"
   ]
  },
  {
   "cell_type": "code",
   "execution_count": 16,
   "metadata": {},
   "outputs": [
    {
     "data": {
      "text/plain": [
       "(167, 29)"
      ]
     },
     "execution_count": 16,
     "metadata": {},
     "output_type": "execute_result"
    }
   ],
   "source": [
    "schools.shape"
   ]
  },
  {
   "cell_type": "markdown",
   "metadata": {},
   "source": [
    "#### the `columns` attribute shows the column names for the DataFrame"
   ]
  },
  {
   "cell_type": "code",
   "execution_count": 19,
   "metadata": {},
   "outputs": [
    {
     "data": {
      "text/plain": [
       "Index(['level', 'name', 'zipcode', 'grade_k', 'grade_1', 'grade_2', 'grade_3',\n",
       "       'grade_4', 'grade_5', 'grade_6', 'grade_7', 'grade_8', 'grade_9',\n",
       "       'grade_10', 'grade_11', 'grade_12', 'native_amer', 'asian', 'black',\n",
       "       'hisp', 'p_islander', 'white', 'male', 'female', 'econ_disadv',\n",
       "       'disabled', 'limited_eng', 'lat', 'lng'],\n",
       "      dtype='object')"
      ]
     },
     "execution_count": 19,
     "metadata": {},
     "output_type": "execute_result"
    }
   ],
   "source": [
    "schools.columns"
   ]
  },
  {
   "cell_type": "markdown",
   "metadata": {},
   "source": [
    "#### The `iloc[ ]` accessor gets the specified rows and columns by their _index_ values"
   ]
  },
  {
   "cell_type": "code",
   "execution_count": 22,
   "metadata": {},
   "outputs": [],
   "source": [
    "first_five = schools.iloc[0:5, 0:2]"
   ]
  },
  {
   "cell_type": "code",
   "execution_count": 24,
   "metadata": {},
   "outputs": [
    {
     "data": {
      "text/html": [
       "<div>\n",
       "<style scoped>\n",
       "    .dataframe tbody tr th:only-of-type {\n",
       "        vertical-align: middle;\n",
       "    }\n",
       "\n",
       "    .dataframe tbody tr th {\n",
       "        vertical-align: top;\n",
       "    }\n",
       "\n",
       "    .dataframe thead th {\n",
       "        text-align: right;\n",
       "    }\n",
       "</style>\n",
       "<table border=\"1\" class=\"dataframe\">\n",
       "  <thead>\n",
       "    <tr style=\"text-align: right;\">\n",
       "      <th></th>\n",
       "      <th>level</th>\n",
       "      <th>name</th>\n",
       "    </tr>\n",
       "  </thead>\n",
       "  <tbody>\n",
       "    <tr>\n",
       "      <th>0</th>\n",
       "      <td>Elementary School</td>\n",
       "      <td>A. Z. Kelley Elementary</td>\n",
       "    </tr>\n",
       "    <tr>\n",
       "      <th>1</th>\n",
       "      <td>Elementary School</td>\n",
       "      <td>Alex Green Elementary</td>\n",
       "    </tr>\n",
       "    <tr>\n",
       "      <th>2</th>\n",
       "      <td>Elementary School</td>\n",
       "      <td>Amqui Elementary</td>\n",
       "    </tr>\n",
       "    <tr>\n",
       "      <th>3</th>\n",
       "      <td>Elementary School</td>\n",
       "      <td>Andrew Jackson Elementary</td>\n",
       "    </tr>\n",
       "    <tr>\n",
       "      <th>4</th>\n",
       "      <td>High School</td>\n",
       "      <td>Antioch High School</td>\n",
       "    </tr>\n",
       "  </tbody>\n",
       "</table>\n",
       "</div>"
      ],
      "text/plain": [
       "               level                       name\n",
       "0  Elementary School    A. Z. Kelley Elementary\n",
       "1  Elementary School      Alex Green Elementary\n",
       "2  Elementary School           Amqui Elementary\n",
       "3  Elementary School  Andrew Jackson Elementary\n",
       "4        High School        Antioch High School"
      ]
     },
     "execution_count": 24,
     "metadata": {},
     "output_type": "execute_result"
    }
   ],
   "source": [
    "first_five"
   ]
  },
  {
   "cell_type": "markdown",
   "metadata": {},
   "source": [
    "#### The `loc[ ]` accessor gets the specified rows and columns by their _names_"
   ]
  },
  {
   "cell_type": "code",
   "execution_count": 26,
   "metadata": {},
   "outputs": [
    {
     "data": {
      "text/plain": [
       "(5, 29)"
      ]
     },
     "execution_count": 26,
     "metadata": {},
     "output_type": "execute_result"
    }
   ],
   "source": [
    "middle_schools = schools.loc[schools['level'] == 'Middle School'].head()\n",
    "middle_schools.shape"
   ]
  },
  {
   "cell_type": "code",
   "execution_count": null,
   "metadata": {},
   "outputs": [],
   "source": [
    "middle_schools.head()"
   ]
  },
  {
   "cell_type": "code",
   "execution_count": null,
   "metadata": {},
   "outputs": [],
   "source": [
    "econ_disadv_over_200 = schools.loc[schools.econ_disadv > 200]\n",
    "econ_disadv_over_200.shape"
   ]
  },
  {
   "cell_type": "code",
   "execution_count": null,
   "metadata": {},
   "outputs": [],
   "source": [
    "econ_disadv_over_200.head(3)"
   ]
  },
  {
   "cell_type": "markdown",
   "metadata": {},
   "source": [
    "#### Use the isin method to reference an external data structure"
   ]
  },
  {
   "cell_type": "code",
   "execution_count": 6,
   "metadata": {},
   "outputs": [
    {
     "ename": "NameError",
     "evalue": "name 'schools' is not defined",
     "output_type": "error",
     "traceback": [
      "\u001b[0;31m---------------------------------------------------------------------------\u001b[0m",
      "\u001b[0;31mNameError\u001b[0m                                 Traceback (most recent call last)",
      "Cell \u001b[0;32mIn[6], line 2\u001b[0m\n\u001b[1;32m      1\u001b[0m my_list \u001b[38;5;241m=\u001b[39m [\u001b[38;5;241m37201\u001b[39m, \u001b[38;5;241m37203\u001b[39m]\n\u001b[0;32m----> 2\u001b[0m downtown_schools \u001b[38;5;241m=\u001b[39m schools\u001b[38;5;241m.\u001b[39mloc[schools\u001b[38;5;241m.\u001b[39mzipcode\u001b[38;5;241m.\u001b[39misin(my_list)]\n\u001b[1;32m      3\u001b[0m downtown_schools\u001b[38;5;241m.\u001b[39mshape\n",
      "\u001b[0;31mNameError\u001b[0m: name 'schools' is not defined"
     ]
    }
   ],
   "source": [
    "my_list = [37201, 37203]\n",
    "downtown_schools = schools.loc[schools.zipcode.isin(my_list)]\n",
    "downtown_schools.shape"
   ]
  },
  {
   "cell_type": "code",
   "execution_count": null,
   "metadata": {},
   "outputs": [],
   "source": [
    "downtown_schools.head()"
   ]
  },
  {
   "cell_type": "code",
   "execution_count": null,
   "metadata": {},
   "outputs": [],
   "source": [
    "school_and_type = schools[['name', 'level']]\n",
    "school_and_type.head(2)"
   ]
  },
  {
   "cell_type": "markdown",
   "metadata": {},
   "source": [
    "#### Drop columns from a DataFrame with the `.drop( )` method; be sure to specify `columns = ` and pass a list of columns to the method"
   ]
  },
  {
   "cell_type": "code",
   "execution_count": null,
   "metadata": {},
   "outputs": [],
   "source": [
    "schools.columns"
   ]
  },
  {
   "cell_type": "code",
   "execution_count": null,
   "metadata": {},
   "outputs": [],
   "source": [
    "school_and_gender_counts = schools.drop(columns = ['native_amer', 'asian', 'black', 'hisp', 'p_islander', 'white', \n",
    "                                              'econ_disadv', 'disabled', 'limited_eng', 'lat', 'lng'])"
   ]
  },
  {
   "cell_type": "code",
   "execution_count": null,
   "metadata": {},
   "outputs": [],
   "source": [
    "school_and_gender_counts.columns"
   ]
  },
  {
   "cell_type": "markdown",
   "metadata": {},
   "source": [
    "#### If the column list is short and you are feeling lazy, you can assign new column names (as a list _with every column in the right order_ ) to the columns attribute"
   ]
  },
  {
   "cell_type": "code",
   "execution_count": null,
   "metadata": {},
   "outputs": [],
   "source": [
    "school_and_type.columns"
   ]
  },
  {
   "cell_type": "code",
   "execution_count": null,
   "metadata": {},
   "outputs": [],
   "source": [
    "school_and_type.columns = ['school', 'type']\n",
    "school_and_type.head()"
   ]
  },
  {
   "cell_type": "markdown",
   "metadata": {},
   "source": [
    "#### If you only want to change the name of a subset of columns, use the df.rename() function"
   ]
  },
  {
   "cell_type": "code",
   "execution_count": null,
   "metadata": {},
   "outputs": [],
   "source": [
    "school_and_gender_counts = school_and_gender_counts.rename(columns = {'level': 'type', 'name': 'school'})\n",
    "school_and_gender_counts.head()"
   ]
  },
  {
   "cell_type": "markdown",
   "metadata": {},
   "source": [
    "# End of Instruction"
   ]
  },
  {
   "cell_type": "markdown",
   "metadata": {},
   "source": [
    "### Starting with the schools dataframe filter out just the High Schools and create a new datafrom called \"high_schools\"."
   ]
  },
  {
   "cell_type": "code",
   "execution_count": null,
   "metadata": {},
   "outputs": [],
   "source": [
    "high_schools = schools.loc[schools['level'] == 'High School']\n",
    "high_schools.head()"
   ]
  },
  {
   "cell_type": "markdown",
   "metadata": {},
   "source": [
    "### Now drop the columns named grade_k trhough grade_8 and overwrite you high_schools dataframe with the results"
   ]
  },
  {
   "cell_type": "code",
   "execution_count": null,
   "metadata": {},
   "outputs": [],
   "source": [
    "high_schools.columns\n",
    "high_schools = high_schools.drop(columns = ['grade_k', 'grade_1', 'grade_2', 'grade_3',\n",
    "       'grade_4', 'grade_5', 'grade_6', 'grade_7', 'grade_8'])\n"
   ]
  },
  {
   "cell_type": "code",
   "execution_count": null,
   "metadata": {},
   "outputs": [],
   "source": []
  },
  {
   "cell_type": "markdown",
   "metadata": {},
   "source": [
    "### Create a list name my_zip_codes which contains the zipcodes 37203 and 37013.  Next, use the isin() method to filter the datafrome and save it to itself."
   ]
  },
  {
   "cell_type": "code",
   "execution_count": null,
   "metadata": {},
   "outputs": [],
   "source": [
    "my_zip_codes = [37203,37013] \n",
    "my_zip_codes = schools.loc[schools.zipcode.isin(my_zip_codes)]\n",
    "my_zip_codes.head()"
   ]
  },
  {
   "cell_type": "markdown",
   "metadata": {},
   "source": [
    "### Rename the level column \"high_school\""
   ]
  },
  {
   "cell_type": "code",
   "execution_count": null,
   "metadata": {
    "scrolled": true
   },
   "outputs": [],
   "source": [
    "my_zip_codes = my_zip_codes.rename(columns = {'level' : 'high_school'})\n",
    "my_zip_codes.head()"
   ]
  },
  {
   "cell_type": "markdown",
   "metadata": {},
   "source": [
    "### Use the shape attribute to see how many rows and columns exist in the current dataframe."
   ]
  },
  {
   "cell_type": "code",
   "execution_count": null,
   "metadata": {},
   "outputs": [],
   "source": [
    "my_zip_codes.shape\n"
   ]
  },
  {
   "cell_type": "code",
   "execution_count": null,
   "metadata": {},
   "outputs": [],
   "source": []
  }
 ],
 "metadata": {
  "kernelspec": {
   "display_name": "Python 3 (ipykernel)",
   "language": "python",
   "name": "python3"
  },
  "language_info": {
   "codemirror_mode": {
    "name": "ipython",
    "version": 3
   },
   "file_extension": ".py",
   "mimetype": "text/x-python",
   "name": "python",
   "nbconvert_exporter": "python",
   "pygments_lexer": "ipython3",
   "version": "3.12.4"
  }
 },
 "nbformat": 4,
 "nbformat_minor": 4
}
