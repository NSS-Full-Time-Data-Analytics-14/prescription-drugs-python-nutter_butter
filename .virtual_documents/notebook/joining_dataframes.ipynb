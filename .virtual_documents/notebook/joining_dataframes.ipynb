import pandas as pd
import matplotlib.pyplot as plt






data_2023 = { 'state' : ['NY','WV','TN'],
         'count' : [14,55,63],
         'code' : ['ab65','88ui','u7r4']}
data_2024 = { 'state' : ['NY','WV','TN'],
         'count' : [7,78,29],
         'code' : ['0o09','jj33','1d6u']}


df_2023 = pd.DataFrame(data_2023)
df_2024 = pd.DataFrame(data_2024)


df_2023


df_2024





df_2023['year'] = '2023'
df_2024['year'] = '2024'


df_2023


concat_data = pd.concat([df_2023, df_2024])
concat_data

## Notice that the index repeats itself





concat_data = concat_data.reset_index(drop = True)
concat_data





schools = pd.read_csv('../data/schools_clean.csv')
schools.head(2)


indicators = pd.read_csv('../data/school_indicator_scores_suppressed.csv')
indicators.head(2)











schools_subset = schools[['name', 'total_students', 'econ_disadv']]
schools_subset


schools['total_students'] = schools.male + schools.female
schools.head(2)


indicators = indicators.loc[(indicators.system_name == 'Davidson County') & (indicators.subgroup == 'All Students')]
indicators.shape


indicators.head(3)


indicators_subset = indicators[['school_name', 'score_achievement', 
                                'score_growth', 'score_absenteeism',
                                'score_grad', 'score_ready_grad', 
                                'score_elpa']]


print('schools subset: ', schools_subset.shape)
print('indicators subset: ', indicators_subset.shape)





schools_with_scores = pd.merge(schools_subset, indicators_subset, 
                               left_on = 'name', right_on = 'school_name', 
                               how = 'inner')
schools_with_scores.head(3)





schools_with_scores = schools_with_scores.drop(columns = 'school_name')


schools_with_scores['pct_econ_disadv'] = schools_with_scores.econ_disadv / schools_with_scores.total_students * 100
schools_with_scores.head()





plt.scatter(x = 'score_achievement', y ='pct_econ_disadv', data = schools_with_scores)
plt.xlabel('score')
plt.ylabel('percentage economically disadvantaged')
plt.title('score by percent economically disadvantaged')


schools_with_scores.to_csv('../data/schools_with_scores.csv', index = False)


clean = pd.read_csv('../data/schools_with_scores.csv')
clean.head()








### First, slice the schools dataframe so you only have the 'name' and 'zipcode' columns.  Save this as zips.


zips = schools[['name','zipcode']]
zips


### Next, merge zips with_with_scores and name this dataframe test_zips


test_zips = pd.merge(   schools_with_scores,     zips, 
                                
                      
                     left_on = 'name', right_on = 'name', 
                                
                                 how = 'inner')

test_zips


### Now use value_counts() to find which zipcode has the most schools.
### (You can simply make a note, later in the course we learn how to automate this step)


test_zips.zipcode.value_counts()



### Filter the test_zips dataframe to include only that zipcode


print(test_zips.shape)
print(test_zips['zipcode'].unique())
print(test_zips['zipcode'].dtype)



test_zips = test_zips.loc[test_zips['zipcode'] == 37013]
test_zips


### Create a barplot that shows the distribution of scores by school name for that zipcode.


fig, ax = plt.subplots()
bars = ax.bar(test_zips['score_elpa'], test_zips['name'],color = 'black')
plt.xlabel('scores')
plt.title('distribution of scores by school')
plt.show()






