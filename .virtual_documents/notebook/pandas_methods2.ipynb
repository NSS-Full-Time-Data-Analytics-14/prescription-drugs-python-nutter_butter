import pandas as pd






schools = pd.read_csv('../data/schools_clean.csv')
schools.shape








schools.head(2)


type(schools)





schools.level.value_counts()





type_counts = schools.level.value_counts()


type_counts.head()



type(type_counts)


#make series a df
type_counts = type_counts.to_frame()


type(type_counts)


type_counts.head(2)





#reset index resets to 0-based index and moves existing index to a column
type_counts = type_counts.reset_index()
type_counts





test = type_counts.reset_index()
test





type_counts = type_counts.reset_index(drop=True)
type_counts





type_counts.columns = ['school_type', 'count']
type_counts.head(3)





type(type_counts)





type_counts.sort_values(by = 'count', ascending = False)


schools.isnull().sum()


schools.info()


schools.describe()








schools.zipcode.value_counts()





zip_freq = schools.zipcode.value_counts()





zip_freq = zip_freq.to_frame()





zip_freq = zip_freq.reset_index()
zip_freq





zip_freq = zip_freq.sort_values(by = 'zipcode', ascending = True)
zip_freq





zip_freq.reset_index(drop = True)



