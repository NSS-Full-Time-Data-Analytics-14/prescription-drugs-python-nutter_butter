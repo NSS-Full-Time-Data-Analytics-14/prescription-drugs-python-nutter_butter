{
 "cells": [
  {
   "cell_type": "markdown",
   "id": "60d81861",
   "metadata": {},
   "source": [
    "## String Methods in _pandas_\n",
    "\n",
    "In this notebook, you'll learn about several string methods and how to use them with a _pandas_ DataFrame.\n",
    "\n",
    "We'll be reading in and trying to combine two datasets."
   ]
  },
  {
   "cell_type": "code",
   "execution_count": 6,
   "id": "0e57ffed",
   "metadata": {},
   "outputs": [],
   "source": [
    "import pandas as pd"
   ]
  },
  {
   "cell_type": "markdown",
   "id": "5d945222",
   "metadata": {},
   "source": [
    "Our first dataset contains unemployment data that was obtained from the Burea of Labor Statistics."
   ]
  },
  {
   "cell_type": "code",
   "execution_count": 9,
   "id": "8825ce50",
   "metadata": {},
   "outputs": [
    {
     "data": {
      "text/html": [
       "<div>\n",
       "<style scoped>\n",
       "    .dataframe tbody tr th:only-of-type {\n",
       "        vertical-align: middle;\n",
       "    }\n",
       "\n",
       "    .dataframe tbody tr th {\n",
       "        vertical-align: top;\n",
       "    }\n",
       "\n",
       "    .dataframe thead th {\n",
       "        text-align: right;\n",
       "    }\n",
       "</style>\n",
       "<table border=\"1\" class=\"dataframe\">\n",
       "  <thead>\n",
       "    <tr style=\"text-align: right;\">\n",
       "      <th></th>\n",
       "      <th>laus_code</th>\n",
       "      <th>State</th>\n",
       "      <th>County</th>\n",
       "      <th>Name</th>\n",
       "      <th>Period</th>\n",
       "      <th>LF</th>\n",
       "      <th>Employed</th>\n",
       "      <th>Unemployed</th>\n",
       "      <th>unemployment_rate</th>\n",
       "    </tr>\n",
       "  </thead>\n",
       "  <tbody>\n",
       "    <tr>\n",
       "      <th>0</th>\n",
       "      <td>CN4700100000000</td>\n",
       "      <td>47</td>\n",
       "      <td>1</td>\n",
       "      <td>Anderson County, TN</td>\n",
       "      <td>Mar-21</td>\n",
       "      <td>34704</td>\n",
       "      <td>33010</td>\n",
       "      <td>1694</td>\n",
       "      <td>4.9</td>\n",
       "    </tr>\n",
       "    <tr>\n",
       "      <th>1</th>\n",
       "      <td>CN4700300000000</td>\n",
       "      <td>47</td>\n",
       "      <td>3</td>\n",
       "      <td>Bedford County, TN</td>\n",
       "      <td>Mar-21</td>\n",
       "      <td>20623</td>\n",
       "      <td>19550</td>\n",
       "      <td>1073</td>\n",
       "      <td>5.2</td>\n",
       "    </tr>\n",
       "    <tr>\n",
       "      <th>2</th>\n",
       "      <td>CN4700500000000</td>\n",
       "      <td>47</td>\n",
       "      <td>5</td>\n",
       "      <td>Benton County, TN</td>\n",
       "      <td>Mar-21</td>\n",
       "      <td>6723</td>\n",
       "      <td>6305</td>\n",
       "      <td>418</td>\n",
       "      <td>6.2</td>\n",
       "    </tr>\n",
       "    <tr>\n",
       "      <th>3</th>\n",
       "      <td>CN4700700000000</td>\n",
       "      <td>47</td>\n",
       "      <td>7</td>\n",
       "      <td>Bledsoe County, TN</td>\n",
       "      <td>Mar-21</td>\n",
       "      <td>4252</td>\n",
       "      <td>3947</td>\n",
       "      <td>305</td>\n",
       "      <td>7.2</td>\n",
       "    </tr>\n",
       "    <tr>\n",
       "      <th>4</th>\n",
       "      <td>CN4700900000000</td>\n",
       "      <td>47</td>\n",
       "      <td>9</td>\n",
       "      <td>Blount County, TN</td>\n",
       "      <td>Mar-21</td>\n",
       "      <td>64098</td>\n",
       "      <td>61119</td>\n",
       "      <td>2979</td>\n",
       "      <td>4.6</td>\n",
       "    </tr>\n",
       "  </tbody>\n",
       "</table>\n",
       "</div>"
      ],
      "text/plain": [
       "         laus_code  State  County                 Name  Period     LF  \\\n",
       "0  CN4700100000000     47       1  Anderson County, TN  Mar-21  34704   \n",
       "1  CN4700300000000     47       3   Bedford County, TN  Mar-21  20623   \n",
       "2  CN4700500000000     47       5    Benton County, TN  Mar-21   6723   \n",
       "3  CN4700700000000     47       7   Bledsoe County, TN  Mar-21   4252   \n",
       "4  CN4700900000000     47       9    Blount County, TN  Mar-21  64098   \n",
       "\n",
       "   Employed  Unemployed  unemployment_rate  \n",
       "0     33010        1694                4.9  \n",
       "1     19550        1073                5.2  \n",
       "2      6305         418                6.2  \n",
       "3      3947         305                7.2  \n",
       "4     61119        2979                4.6  "
      ]
     },
     "execution_count": 9,
     "metadata": {},
     "output_type": "execute_result"
    }
   ],
   "source": [
    "unemployment = pd.read_csv('../data/tn_unemployment.csv')\n",
    "\n",
    "unemployment.head()"
   ]
  },
  {
   "cell_type": "markdown",
   "id": "6341d75c",
   "metadata": {},
   "source": [
    "Now, let's bring in our second DataFrame, which contains population data per county."
   ]
  },
  {
   "cell_type": "code",
   "execution_count": 12,
   "id": "c0d4bf10",
   "metadata": {},
   "outputs": [
    {
     "data": {
      "text/html": [
       "<div>\n",
       "<style scoped>\n",
       "    .dataframe tbody tr th:only-of-type {\n",
       "        vertical-align: middle;\n",
       "    }\n",
       "\n",
       "    .dataframe tbody tr th {\n",
       "        vertical-align: top;\n",
       "    }\n",
       "\n",
       "    .dataframe thead th {\n",
       "        text-align: right;\n",
       "    }\n",
       "</style>\n",
       "<table border=\"1\" class=\"dataframe\">\n",
       "  <thead>\n",
       "    <tr style=\"text-align: right;\">\n",
       "      <th></th>\n",
       "      <th>Name</th>\n",
       "      <th>Population</th>\n",
       "    </tr>\n",
       "  </thead>\n",
       "  <tbody>\n",
       "    <tr>\n",
       "      <th>0</th>\n",
       "      <td>ANDERSON COUNTY</td>\n",
       "      <td>75129</td>\n",
       "    </tr>\n",
       "    <tr>\n",
       "      <th>1</th>\n",
       "      <td>BEDFORD COUNTY</td>\n",
       "      <td>45058</td>\n",
       "    </tr>\n",
       "    <tr>\n",
       "      <th>2</th>\n",
       "      <td>BENTON COUNTY</td>\n",
       "      <td>16489</td>\n",
       "    </tr>\n",
       "    <tr>\n",
       "      <th>3</th>\n",
       "      <td>BLEDSOE COUNTY</td>\n",
       "      <td>12876</td>\n",
       "    </tr>\n",
       "    <tr>\n",
       "      <th>4</th>\n",
       "      <td>BLOUNT COUNTY</td>\n",
       "      <td>123010</td>\n",
       "    </tr>\n",
       "  </tbody>\n",
       "</table>\n",
       "</div>"
      ],
      "text/plain": [
       "              Name  Population\n",
       "0  ANDERSON COUNTY       75129\n",
       "1   BEDFORD COUNTY       45058\n",
       "2    BENTON COUNTY       16489\n",
       "3   BLEDSOE COUNTY       12876\n",
       "4    BLOUNT COUNTY      123010"
      ]
     },
     "execution_count": 12,
     "metadata": {},
     "output_type": "execute_result"
    }
   ],
   "source": [
    "population = pd.read_csv('../data/tn_population.csv')\n",
    "\n",
    "population.head()"
   ]
  },
  {
   "cell_type": "markdown",
   "id": "77c17e64",
   "metadata": {},
   "source": [
    "Our goal is to combine the unemployment and population data. In order to do this, _pandas_ needs a common column to join on. \n",
    "\n",
    "Notice that both DataFrames have a Name column. However, we can't merge them at the moment since the capitalization is different, and one includes the state."
   ]
  },
  {
   "cell_type": "markdown",
   "id": "9a6be226",
   "metadata": {},
   "source": [
    "When working with text data in `pandas`, it is often useful to utilize the built-in sting methods. To use these methods, you must prepend a `.str` before the desired method.\n",
    "\n",
    "### Changing Case\n",
    "\n",
    "For example, we can make column entirely uppercase using the `upper()` method."
   ]
  },
  {
   "cell_type": "code",
   "execution_count": 18,
   "id": "285e8203",
   "metadata": {},
   "outputs": [
    {
     "data": {
      "text/plain": [
       "0       anderson county, tn\n",
       "1        bedford county, tn\n",
       "2         benton county, tn\n",
       "3        bledsoe county, tn\n",
       "4         blount county, tn\n",
       "              ...          \n",
       "90         wayne county, tn\n",
       "91       weakley county, tn\n",
       "92         white county, tn\n",
       "93    williamson county, tn\n",
       "94        wilson county, tn\n",
       "Name: Name, Length: 95, dtype: object"
      ]
     },
     "execution_count": 18,
     "metadata": {},
     "output_type": "execute_result"
    }
   ],
   "source": [
    "unemployment['Name'].str.lower()"
   ]
  },
  {
   "cell_type": "markdown",
   "id": "7aa0d244",
   "metadata": {},
   "source": [
    "Alternatively, we can capitalize the first letter of each word using the `title()` method."
   ]
  },
  {
   "cell_type": "code",
   "execution_count": 21,
   "id": "469996e6",
   "metadata": {},
   "outputs": [
    {
     "data": {
      "text/plain": [
       "0       Anderson County\n",
       "1        Bedford County\n",
       "2         Benton County\n",
       "3        Bledsoe County\n",
       "4         Blount County\n",
       "            ...        \n",
       "90         Wayne County\n",
       "91       Weakley County\n",
       "92         White County\n",
       "93    Williamson County\n",
       "94        Wilson County\n",
       "Name: Name, Length: 95, dtype: object"
      ]
     },
     "execution_count": 21,
     "metadata": {},
     "output_type": "execute_result"
    }
   ],
   "source": [
    "population['Name'].str.title()"
   ]
  },
  {
   "cell_type": "markdown",
   "id": "f672db79",
   "metadata": {},
   "source": [
    "Let's use the second method which will get our columns closer to where they need to be."
   ]
  },
  {
   "cell_type": "code",
   "execution_count": 29,
   "id": "636c2b51",
   "metadata": {},
   "outputs": [
    {
     "data": {
      "text/html": [
       "<div>\n",
       "<style scoped>\n",
       "    .dataframe tbody tr th:only-of-type {\n",
       "        vertical-align: middle;\n",
       "    }\n",
       "\n",
       "    .dataframe tbody tr th {\n",
       "        vertical-align: top;\n",
       "    }\n",
       "\n",
       "    .dataframe thead th {\n",
       "        text-align: right;\n",
       "    }\n",
       "</style>\n",
       "<table border=\"1\" class=\"dataframe\">\n",
       "  <thead>\n",
       "    <tr style=\"text-align: right;\">\n",
       "      <th></th>\n",
       "      <th>Name</th>\n",
       "      <th>Population</th>\n",
       "    </tr>\n",
       "  </thead>\n",
       "  <tbody>\n",
       "    <tr>\n",
       "      <th>0</th>\n",
       "      <td>Anderson County</td>\n",
       "      <td>75129</td>\n",
       "    </tr>\n",
       "    <tr>\n",
       "      <th>1</th>\n",
       "      <td>Bedford County</td>\n",
       "      <td>45058</td>\n",
       "    </tr>\n",
       "    <tr>\n",
       "      <th>2</th>\n",
       "      <td>Benton County</td>\n",
       "      <td>16489</td>\n",
       "    </tr>\n",
       "    <tr>\n",
       "      <th>3</th>\n",
       "      <td>Bledsoe County</td>\n",
       "      <td>12876</td>\n",
       "    </tr>\n",
       "    <tr>\n",
       "      <th>4</th>\n",
       "      <td>Blount County</td>\n",
       "      <td>123010</td>\n",
       "    </tr>\n",
       "    <tr>\n",
       "      <th>...</th>\n",
       "      <td>...</td>\n",
       "      <td>...</td>\n",
       "    </tr>\n",
       "    <tr>\n",
       "      <th>90</th>\n",
       "      <td>Wayne County</td>\n",
       "      <td>17021</td>\n",
       "    </tr>\n",
       "    <tr>\n",
       "      <th>91</th>\n",
       "      <td>Weakley County</td>\n",
       "      <td>35021</td>\n",
       "    </tr>\n",
       "    <tr>\n",
       "      <th>92</th>\n",
       "      <td>White County</td>\n",
       "      <td>25841</td>\n",
       "    </tr>\n",
       "    <tr>\n",
       "      <th>93</th>\n",
       "      <td>Williamson County</td>\n",
       "      <td>202686</td>\n",
       "    </tr>\n",
       "    <tr>\n",
       "      <th>94</th>\n",
       "      <td>Wilson County</td>\n",
       "      <td>113993</td>\n",
       "    </tr>\n",
       "  </tbody>\n",
       "</table>\n",
       "<p>95 rows × 2 columns</p>\n",
       "</div>"
      ],
      "text/plain": [
       "                 Name  Population\n",
       "0     Anderson County       75129\n",
       "1      Bedford County       45058\n",
       "2       Benton County       16489\n",
       "3      Bledsoe County       12876\n",
       "4       Blount County      123010\n",
       "..                ...         ...\n",
       "90       Wayne County       17021\n",
       "91     Weakley County       35021\n",
       "92       White County       25841\n",
       "93  Williamson County      202686\n",
       "94      Wilson County      113993\n",
       "\n",
       "[95 rows x 2 columns]"
      ]
     },
     "execution_count": 29,
     "metadata": {},
     "output_type": "execute_result"
    }
   ],
   "source": [
    "population['Name'] = population['Name'].str.title()\n",
    "population "
   ]
  },
  {
   "cell_type": "markdown",
   "id": "aee8ea48",
   "metadata": {},
   "source": [
    "### Replace\n",
    "\n",
    "Another often useful method is the `replace()` method. To use this method, specify what pattern you want to replace and then the replacement text."
   ]
  },
  {
   "cell_type": "code",
   "execution_count": 61,
   "id": "e34c2168",
   "metadata": {},
   "outputs": [
    {
     "data": {
      "text/plain": [
       "0     Mar 2021\n",
       "1     Mar 2021\n",
       "2     Mar 2021\n",
       "3     Mar 2021\n",
       "4     Mar 2021\n",
       "        ...   \n",
       "90    Mar 2021\n",
       "91    Mar 2021\n",
       "92    Mar 2021\n",
       "93    Mar 2021\n",
       "94    Mar 2021\n",
       "Name: Period, Length: 95, dtype: object"
      ]
     },
     "execution_count": 61,
     "metadata": {},
     "output_type": "execute_result"
    }
   ],
   "source": [
    "unemployment['Period'].str.replace('-21', ' 2021')"
   ]
  },
  {
   "cell_type": "markdown",
   "id": "43ec5d84",
   "metadata": {},
   "source": [
    "**Try It Out** Use string slicing to remove the \", TN\" from the Name column of the unemployment DataFrame."
   ]
  },
  {
   "cell_type": "code",
   "execution_count": 53,
   "id": "6f47a0d1",
   "metadata": {},
   "outputs": [
    {
     "data": {
      "text/plain": [
       "0       Anderson County\n",
       "1        Bedford County\n",
       "2         Benton County\n",
       "3        Bledsoe County\n",
       "4         Blount County\n",
       "            ...        \n",
       "90         Wayne County\n",
       "91       Weakley County\n",
       "92         White County\n",
       "93    Williamson County\n",
       "94        Wilson County\n",
       "Name: Name, Length: 95, dtype: object"
      ]
     },
     "execution_count": 53,
     "metadata": {},
     "output_type": "execute_result"
    }
   ],
   "source": [
    "# Your Code Here\n",
    "unemployment['Name'].str.replace(', TN', '')"
   ]
  },
  {
   "cell_type": "markdown",
   "id": "6d08326e",
   "metadata": {},
   "source": [
    "### String Slicing\n",
    "\n",
    "We can also slice strings using _pandas_ much like we can with regular strings."
   ]
  },
  {
   "cell_type": "code",
   "execution_count": 55,
   "id": "9a31c150",
   "metadata": {},
   "outputs": [
    {
     "data": {
      "text/plain": [
       "0     Mar\n",
       "1     Mar\n",
       "2     Mar\n",
       "3     Mar\n",
       "4     Mar\n",
       "     ... \n",
       "90    Mar\n",
       "91    Mar\n",
       "92    Mar\n",
       "93    Mar\n",
       "94    Mar\n",
       "Name: Period, Length: 95, dtype: object"
      ]
     },
     "execution_count": 55,
     "metadata": {},
     "output_type": "execute_result"
    }
   ],
   "source": [
    "unemployment['Period'].str[:3]"
   ]
  },
  {
   "cell_type": "markdown",
   "id": "6cb4455b",
   "metadata": {},
   "source": [
    "**Try It Out** Use string slicing to remove the \", TN\" from the Name column of the unemployment DataFrame."
   ]
  },
  {
   "cell_type": "code",
   "execution_count": 73,
   "id": "b2ba1b1d",
   "metadata": {},
   "outputs": [
    {
     "data": {
      "text/plain": [
       "0       Anderson County\n",
       "1        Bedford County\n",
       "2         Benton County\n",
       "3        Bledsoe County\n",
       "4         Blount County\n",
       "            ...        \n",
       "90         Wayne County\n",
       "91       Weakley County\n",
       "92         White County\n",
       "93    Williamson County\n",
       "94        Wilson County\n",
       "Name: Name, Length: 95, dtype: object"
      ]
     },
     "execution_count": 73,
     "metadata": {},
     "output_type": "execute_result"
    }
   ],
   "source": [
    "# Your Code Here\n",
    "unemployment['Name'].str[:-4]"
   ]
  },
  {
   "cell_type": "markdown",
   "id": "a7cceb6c",
   "metadata": {},
   "source": [
    "### String Concatenation\n",
    "\n",
    "Note that we can also use + with string to concatenate them. For example, we could add on the \", TN\" to the population Name column."
   ]
  },
  {
   "cell_type": "code",
   "execution_count": 118,
   "id": "b301c9b1",
   "metadata": {},
   "outputs": [
    {
     "data": {
      "text/plain": [
       "0       Anderson County, TN\n",
       "1        Bedford County, TN\n",
       "2         Benton County, TN\n",
       "3        Bledsoe County, TN\n",
       "4         Blount County, TN\n",
       "              ...          \n",
       "90         Wayne County, TN\n",
       "91       Weakley County, TN\n",
       "92         White County, TN\n",
       "93    Williamson County, TN\n",
       "94        Wilson County, TN\n",
       "Name: Name, Length: 95, dtype: object"
      ]
     },
     "execution_count": 118,
     "metadata": {},
     "output_type": "execute_result"
    }
   ],
   "source": [
    "population['Name'] + ', TN'"
   ]
  },
  {
   "cell_type": "code",
   "execution_count": 137,
   "id": "8632b88f-5a56-4b86-b1c3-871e19e8677b",
   "metadata": {},
   "outputs": [
    {
     "data": {
      "text/plain": [
       "0       Anderson\n",
       "1        Bedford\n",
       "2         Benton\n",
       "3        Bledsoe\n",
       "4         Blount\n",
       "         ...    \n",
       "90         Wayne\n",
       "91       Weakley\n",
       "92         White\n",
       "93    Williamson\n",
       "94        Wilson\n",
       "Name: Name, Length: 95, dtype: object"
      ]
     },
     "execution_count": 137,
     "metadata": {},
     "output_type": "execute_result"
    }
   ],
   "source": [
    "unemployment['Name'].str[:-11] \n"
   ]
  },
  {
   "cell_type": "markdown",
   "id": "25670c3a",
   "metadata": {},
   "source": [
    "### Splitting Strings\n",
    "\n",
    "Another useful string method is `.str.split()`, which allows us to divide a string into a list of parts by specifying what to split on. \n",
    "\n",
    "Notice that if we split on the comma, the first piece will match what is contained in the `Name` column of the population DataFrame."
   ]
  },
  {
   "cell_type": "code",
   "execution_count": 122,
   "id": "b3d700d6",
   "metadata": {},
   "outputs": [
    {
     "data": {
      "text/plain": [
       "0       [Anderson County,  TN]\n",
       "1        [Bedford County,  TN]\n",
       "2         [Benton County,  TN]\n",
       "3        [Bledsoe County,  TN]\n",
       "4         [Blount County,  TN]\n",
       "                ...           \n",
       "90         [Wayne County,  TN]\n",
       "91       [Weakley County,  TN]\n",
       "92         [White County,  TN]\n",
       "93    [Williamson County,  TN]\n",
       "94        [Wilson County,  TN]\n",
       "Name: Name, Length: 95, dtype: object"
      ]
     },
     "execution_count": 122,
     "metadata": {},
     "output_type": "execute_result"
    }
   ],
   "source": [
    "unemployment['Name'].str.split(',')"
   ]
  },
  {
   "cell_type": "markdown",
   "id": "af3bd918",
   "metadata": {},
   "source": [
    "By default, this method returns a list. We can make it return a DataFrame by using the `expand` argument."
   ]
  },
  {
   "cell_type": "code",
   "execution_count": 128,
   "id": "bb56e30b",
   "metadata": {},
   "outputs": [
    {
     "data": {
      "text/html": [
       "<div>\n",
       "<style scoped>\n",
       "    .dataframe tbody tr th:only-of-type {\n",
       "        vertical-align: middle;\n",
       "    }\n",
       "\n",
       "    .dataframe tbody tr th {\n",
       "        vertical-align: top;\n",
       "    }\n",
       "\n",
       "    .dataframe thead th {\n",
       "        text-align: right;\n",
       "    }\n",
       "</style>\n",
       "<table border=\"1\" class=\"dataframe\">\n",
       "  <thead>\n",
       "    <tr style=\"text-align: right;\">\n",
       "      <th></th>\n",
       "      <th>0</th>\n",
       "      <th>1</th>\n",
       "    </tr>\n",
       "  </thead>\n",
       "  <tbody>\n",
       "    <tr>\n",
       "      <th>0</th>\n",
       "      <td>Anderson County</td>\n",
       "      <td>TN</td>\n",
       "    </tr>\n",
       "    <tr>\n",
       "      <th>1</th>\n",
       "      <td>Bedford County</td>\n",
       "      <td>TN</td>\n",
       "    </tr>\n",
       "    <tr>\n",
       "      <th>2</th>\n",
       "      <td>Benton County</td>\n",
       "      <td>TN</td>\n",
       "    </tr>\n",
       "    <tr>\n",
       "      <th>3</th>\n",
       "      <td>Bledsoe County</td>\n",
       "      <td>TN</td>\n",
       "    </tr>\n",
       "    <tr>\n",
       "      <th>4</th>\n",
       "      <td>Blount County</td>\n",
       "      <td>TN</td>\n",
       "    </tr>\n",
       "    <tr>\n",
       "      <th>...</th>\n",
       "      <td>...</td>\n",
       "      <td>...</td>\n",
       "    </tr>\n",
       "    <tr>\n",
       "      <th>90</th>\n",
       "      <td>Wayne County</td>\n",
       "      <td>TN</td>\n",
       "    </tr>\n",
       "    <tr>\n",
       "      <th>91</th>\n",
       "      <td>Weakley County</td>\n",
       "      <td>TN</td>\n",
       "    </tr>\n",
       "    <tr>\n",
       "      <th>92</th>\n",
       "      <td>White County</td>\n",
       "      <td>TN</td>\n",
       "    </tr>\n",
       "    <tr>\n",
       "      <th>93</th>\n",
       "      <td>Williamson County</td>\n",
       "      <td>TN</td>\n",
       "    </tr>\n",
       "    <tr>\n",
       "      <th>94</th>\n",
       "      <td>Wilson County</td>\n",
       "      <td>TN</td>\n",
       "    </tr>\n",
       "  </tbody>\n",
       "</table>\n",
       "<p>95 rows × 2 columns</p>\n",
       "</div>"
      ],
      "text/plain": [
       "                    0    1\n",
       "0     Anderson County   TN\n",
       "1      Bedford County   TN\n",
       "2       Benton County   TN\n",
       "3      Bledsoe County   TN\n",
       "4       Blount County   TN\n",
       "..                ...  ...\n",
       "90       Wayne County   TN\n",
       "91     Weakley County   TN\n",
       "92       White County   TN\n",
       "93  Williamson County   TN\n",
       "94      Wilson County   TN\n",
       "\n",
       "[95 rows x 2 columns]"
      ]
     },
     "execution_count": 128,
     "metadata": {},
     "output_type": "execute_result"
    }
   ],
   "source": [
    "unemployment['Name'].str.split(',', expand = True)"
   ]
  },
  {
   "cell_type": "markdown",
   "id": "c9498e3c",
   "metadata": {},
   "source": [
    "We only want the first column."
   ]
  },
  {
   "cell_type": "code",
   "execution_count": 160,
   "id": "06eebe9c",
   "metadata": {},
   "outputs": [
    {
     "data": {
      "text/plain": [
       "0       Anderson County\n",
       "1        Bedford County\n",
       "2         Benton County\n",
       "3        Bledsoe County\n",
       "4         Blount County\n",
       "            ...        \n",
       "90         Wayne County\n",
       "91       Weakley County\n",
       "92         White County\n",
       "93    Williamson County\n",
       "94        Wilson County\n",
       "Name: 0, Length: 95, dtype: object"
      ]
     },
     "execution_count": 160,
     "metadata": {},
     "output_type": "execute_result"
    }
   ],
   "source": [
    "unemployment['Name'].str.split(',', expand = True)[0]"
   ]
  },
  {
   "cell_type": "markdown",
   "id": "996be192",
   "metadata": {},
   "source": [
    "Finally, we can assign this back to the `Name` column."
   ]
  },
  {
   "cell_type": "code",
   "execution_count": 162,
   "id": "fde09c4a",
   "metadata": {},
   "outputs": [],
   "source": [
    "unemployment['Name'] = unemployment['Name'].str.split(',', expand = True)[0]"
   ]
  },
  {
   "cell_type": "code",
   "execution_count": 164,
   "id": "39c76978",
   "metadata": {},
   "outputs": [
    {
     "data": {
      "text/html": [
       "<div>\n",
       "<style scoped>\n",
       "    .dataframe tbody tr th:only-of-type {\n",
       "        vertical-align: middle;\n",
       "    }\n",
       "\n",
       "    .dataframe tbody tr th {\n",
       "        vertical-align: top;\n",
       "    }\n",
       "\n",
       "    .dataframe thead th {\n",
       "        text-align: right;\n",
       "    }\n",
       "</style>\n",
       "<table border=\"1\" class=\"dataframe\">\n",
       "  <thead>\n",
       "    <tr style=\"text-align: right;\">\n",
       "      <th></th>\n",
       "      <th>laus_code</th>\n",
       "      <th>State</th>\n",
       "      <th>County</th>\n",
       "      <th>Name</th>\n",
       "      <th>Period</th>\n",
       "      <th>LF</th>\n",
       "      <th>Employed</th>\n",
       "      <th>Unemployed</th>\n",
       "      <th>unemployment_rate</th>\n",
       "    </tr>\n",
       "  </thead>\n",
       "  <tbody>\n",
       "    <tr>\n",
       "      <th>0</th>\n",
       "      <td>CN4700100000000</td>\n",
       "      <td>47</td>\n",
       "      <td>1</td>\n",
       "      <td>Anderson County</td>\n",
       "      <td>Mar-21</td>\n",
       "      <td>34704</td>\n",
       "      <td>33010</td>\n",
       "      <td>1694</td>\n",
       "      <td>4.9</td>\n",
       "    </tr>\n",
       "    <tr>\n",
       "      <th>1</th>\n",
       "      <td>CN4700300000000</td>\n",
       "      <td>47</td>\n",
       "      <td>3</td>\n",
       "      <td>Bedford County</td>\n",
       "      <td>Mar-21</td>\n",
       "      <td>20623</td>\n",
       "      <td>19550</td>\n",
       "      <td>1073</td>\n",
       "      <td>5.2</td>\n",
       "    </tr>\n",
       "    <tr>\n",
       "      <th>2</th>\n",
       "      <td>CN4700500000000</td>\n",
       "      <td>47</td>\n",
       "      <td>5</td>\n",
       "      <td>Benton County</td>\n",
       "      <td>Mar-21</td>\n",
       "      <td>6723</td>\n",
       "      <td>6305</td>\n",
       "      <td>418</td>\n",
       "      <td>6.2</td>\n",
       "    </tr>\n",
       "    <tr>\n",
       "      <th>3</th>\n",
       "      <td>CN4700700000000</td>\n",
       "      <td>47</td>\n",
       "      <td>7</td>\n",
       "      <td>Bledsoe County</td>\n",
       "      <td>Mar-21</td>\n",
       "      <td>4252</td>\n",
       "      <td>3947</td>\n",
       "      <td>305</td>\n",
       "      <td>7.2</td>\n",
       "    </tr>\n",
       "    <tr>\n",
       "      <th>4</th>\n",
       "      <td>CN4700900000000</td>\n",
       "      <td>47</td>\n",
       "      <td>9</td>\n",
       "      <td>Blount County</td>\n",
       "      <td>Mar-21</td>\n",
       "      <td>64098</td>\n",
       "      <td>61119</td>\n",
       "      <td>2979</td>\n",
       "      <td>4.6</td>\n",
       "    </tr>\n",
       "  </tbody>\n",
       "</table>\n",
       "</div>"
      ],
      "text/plain": [
       "         laus_code  State  County             Name  Period     LF  Employed  \\\n",
       "0  CN4700100000000     47       1  Anderson County  Mar-21  34704     33010   \n",
       "1  CN4700300000000     47       3   Bedford County  Mar-21  20623     19550   \n",
       "2  CN4700500000000     47       5    Benton County  Mar-21   6723      6305   \n",
       "3  CN4700700000000     47       7   Bledsoe County  Mar-21   4252      3947   \n",
       "4  CN4700900000000     47       9    Blount County  Mar-21  64098     61119   \n",
       "\n",
       "   Unemployed  unemployment_rate  \n",
       "0        1694                4.9  \n",
       "1        1073                5.2  \n",
       "2         418                6.2  \n",
       "3         305                7.2  \n",
       "4        2979                4.6  "
      ]
     },
     "execution_count": 164,
     "metadata": {},
     "output_type": "execute_result"
    }
   ],
   "source": [
    "unemployment.head()"
   ]
  },
  {
   "cell_type": "markdown",
   "id": "23739a89",
   "metadata": {},
   "source": [
    "Finally, we are ready to merge our DataFrames."
   ]
  },
  {
   "cell_type": "code",
   "execution_count": 148,
   "id": "f3776746",
   "metadata": {},
   "outputs": [
    {
     "data": {
      "text/html": [
       "<div>\n",
       "<style scoped>\n",
       "    .dataframe tbody tr th:only-of-type {\n",
       "        vertical-align: middle;\n",
       "    }\n",
       "\n",
       "    .dataframe tbody tr th {\n",
       "        vertical-align: top;\n",
       "    }\n",
       "\n",
       "    .dataframe thead th {\n",
       "        text-align: right;\n",
       "    }\n",
       "</style>\n",
       "<table border=\"1\" class=\"dataframe\">\n",
       "  <thead>\n",
       "    <tr style=\"text-align: right;\">\n",
       "      <th></th>\n",
       "      <th>Name</th>\n",
       "      <th>Population</th>\n",
       "      <th>laus_code</th>\n",
       "      <th>State</th>\n",
       "      <th>County</th>\n",
       "      <th>Period</th>\n",
       "      <th>LF</th>\n",
       "      <th>Employed</th>\n",
       "      <th>Unemployed</th>\n",
       "      <th>unemployment_rate</th>\n",
       "    </tr>\n",
       "  </thead>\n",
       "  <tbody>\n",
       "    <tr>\n",
       "      <th>0</th>\n",
       "      <td>Anderson County</td>\n",
       "      <td>75129</td>\n",
       "      <td>CN4700100000000</td>\n",
       "      <td>47</td>\n",
       "      <td>1</td>\n",
       "      <td>Mar-21</td>\n",
       "      <td>34704</td>\n",
       "      <td>33010</td>\n",
       "      <td>1694</td>\n",
       "      <td>4.9</td>\n",
       "    </tr>\n",
       "    <tr>\n",
       "      <th>1</th>\n",
       "      <td>Bedford County</td>\n",
       "      <td>45058</td>\n",
       "      <td>CN4700300000000</td>\n",
       "      <td>47</td>\n",
       "      <td>3</td>\n",
       "      <td>Mar-21</td>\n",
       "      <td>20623</td>\n",
       "      <td>19550</td>\n",
       "      <td>1073</td>\n",
       "      <td>5.2</td>\n",
       "    </tr>\n",
       "    <tr>\n",
       "      <th>2</th>\n",
       "      <td>Benton County</td>\n",
       "      <td>16489</td>\n",
       "      <td>CN4700500000000</td>\n",
       "      <td>47</td>\n",
       "      <td>5</td>\n",
       "      <td>Mar-21</td>\n",
       "      <td>6723</td>\n",
       "      <td>6305</td>\n",
       "      <td>418</td>\n",
       "      <td>6.2</td>\n",
       "    </tr>\n",
       "    <tr>\n",
       "      <th>3</th>\n",
       "      <td>Bledsoe County</td>\n",
       "      <td>12876</td>\n",
       "      <td>CN4700700000000</td>\n",
       "      <td>47</td>\n",
       "      <td>7</td>\n",
       "      <td>Mar-21</td>\n",
       "      <td>4252</td>\n",
       "      <td>3947</td>\n",
       "      <td>305</td>\n",
       "      <td>7.2</td>\n",
       "    </tr>\n",
       "    <tr>\n",
       "      <th>4</th>\n",
       "      <td>Blount County</td>\n",
       "      <td>123010</td>\n",
       "      <td>CN4700900000000</td>\n",
       "      <td>47</td>\n",
       "      <td>9</td>\n",
       "      <td>Mar-21</td>\n",
       "      <td>64098</td>\n",
       "      <td>61119</td>\n",
       "      <td>2979</td>\n",
       "      <td>4.6</td>\n",
       "    </tr>\n",
       "    <tr>\n",
       "      <th>...</th>\n",
       "      <td>...</td>\n",
       "      <td>...</td>\n",
       "      <td>...</td>\n",
       "      <td>...</td>\n",
       "      <td>...</td>\n",
       "      <td>...</td>\n",
       "      <td>...</td>\n",
       "      <td>...</td>\n",
       "      <td>...</td>\n",
       "      <td>...</td>\n",
       "    </tr>\n",
       "    <tr>\n",
       "      <th>87</th>\n",
       "      <td>Wayne County</td>\n",
       "      <td>17021</td>\n",
       "      <td>CN4718100000000</td>\n",
       "      <td>47</td>\n",
       "      <td>181</td>\n",
       "      <td>Mar-21</td>\n",
       "      <td>6416</td>\n",
       "      <td>6074</td>\n",
       "      <td>342</td>\n",
       "      <td>5.3</td>\n",
       "    </tr>\n",
       "    <tr>\n",
       "      <th>88</th>\n",
       "      <td>Weakley County</td>\n",
       "      <td>35021</td>\n",
       "      <td>CN4718300000000</td>\n",
       "      <td>47</td>\n",
       "      <td>183</td>\n",
       "      <td>Mar-21</td>\n",
       "      <td>15494</td>\n",
       "      <td>14783</td>\n",
       "      <td>711</td>\n",
       "      <td>4.6</td>\n",
       "    </tr>\n",
       "    <tr>\n",
       "      <th>89</th>\n",
       "      <td>White County</td>\n",
       "      <td>25841</td>\n",
       "      <td>CN4718500000000</td>\n",
       "      <td>47</td>\n",
       "      <td>185</td>\n",
       "      <td>Mar-21</td>\n",
       "      <td>12085</td>\n",
       "      <td>11484</td>\n",
       "      <td>601</td>\n",
       "      <td>5.0</td>\n",
       "    </tr>\n",
       "    <tr>\n",
       "      <th>90</th>\n",
       "      <td>Williamson County</td>\n",
       "      <td>202686</td>\n",
       "      <td>CN4718700000000</td>\n",
       "      <td>47</td>\n",
       "      <td>187</td>\n",
       "      <td>Mar-21</td>\n",
       "      <td>129484</td>\n",
       "      <td>125213</td>\n",
       "      <td>4271</td>\n",
       "      <td>3.3</td>\n",
       "    </tr>\n",
       "    <tr>\n",
       "      <th>91</th>\n",
       "      <td>Wilson County</td>\n",
       "      <td>113993</td>\n",
       "      <td>CN4718900000000</td>\n",
       "      <td>47</td>\n",
       "      <td>189</td>\n",
       "      <td>Mar-21</td>\n",
       "      <td>77426</td>\n",
       "      <td>74347</td>\n",
       "      <td>3079</td>\n",
       "      <td>4.0</td>\n",
       "    </tr>\n",
       "  </tbody>\n",
       "</table>\n",
       "<p>92 rows × 10 columns</p>\n",
       "</div>"
      ],
      "text/plain": [
       "                 Name  Population        laus_code  State  County  Period  \\\n",
       "0     Anderson County       75129  CN4700100000000     47       1  Mar-21   \n",
       "1      Bedford County       45058  CN4700300000000     47       3  Mar-21   \n",
       "2       Benton County       16489  CN4700500000000     47       5  Mar-21   \n",
       "3      Bledsoe County       12876  CN4700700000000     47       7  Mar-21   \n",
       "4       Blount County      123010  CN4700900000000     47       9  Mar-21   \n",
       "..                ...         ...              ...    ...     ...     ...   \n",
       "87       Wayne County       17021  CN4718100000000     47     181  Mar-21   \n",
       "88     Weakley County       35021  CN4718300000000     47     183  Mar-21   \n",
       "89       White County       25841  CN4718500000000     47     185  Mar-21   \n",
       "90  Williamson County      202686  CN4718700000000     47     187  Mar-21   \n",
       "91      Wilson County      113993  CN4718900000000     47     189  Mar-21   \n",
       "\n",
       "        LF  Employed  Unemployed  unemployment_rate  \n",
       "0    34704     33010        1694                4.9  \n",
       "1    20623     19550        1073                5.2  \n",
       "2     6723      6305         418                6.2  \n",
       "3     4252      3947         305                7.2  \n",
       "4    64098     61119        2979                4.6  \n",
       "..     ...       ...         ...                ...  \n",
       "87    6416      6074         342                5.3  \n",
       "88   15494     14783         711                4.6  \n",
       "89   12085     11484         601                5.0  \n",
       "90  129484    125213        4271                3.3  \n",
       "91   77426     74347        3079                4.0  \n",
       "\n",
       "[92 rows x 10 columns]"
      ]
     },
     "execution_count": 148,
     "metadata": {},
     "output_type": "execute_result"
    }
   ],
   "source": [
    "pd.merge(left = population, right = unemployment)"
   ]
  },
  {
   "cell_type": "code",
   "execution_count": null,
   "id": "74725964-eb8e-40d9-9f72-15c389ad6ad8",
   "metadata": {},
   "outputs": [],
   "source": []
  }
 ],
 "metadata": {
  "kernelspec": {
   "display_name": "Python 3 (ipykernel)",
   "language": "python",
   "name": "python3"
  },
  "language_info": {
   "codemirror_mode": {
    "name": "ipython",
    "version": 3
   },
   "file_extension": ".py",
   "mimetype": "text/x-python",
   "name": "python",
   "nbconvert_exporter": "python",
   "pygments_lexer": "ipython3",
   "version": "3.12.4"
  }
 },
 "nbformat": 4,
 "nbformat_minor": 5
}
