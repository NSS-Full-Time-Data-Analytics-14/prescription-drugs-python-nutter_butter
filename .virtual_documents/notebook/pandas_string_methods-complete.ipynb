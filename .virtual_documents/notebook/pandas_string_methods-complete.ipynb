


import pandas as pd





unemployment = pd.read_csv('../data/tn_unemployment.csv')

unemployment.head()





population = pd.read_csv('../data/tn_population.csv')

population.head()








unemployment['Name'].str.lower()





population['Name'].str.title()





population['Name'] = population['Name'].str.title()
population 





unemployment['Period'].str.replace('-21', ' 2021')





# Your Code Here
unemployment['Name'].str.replace(', TN', '')





unemployment['Period'].str[:3]





# Your Code Here
unemployment['Name'].str[:-4]





population['Name'] + ', TN'


unemployment['Name'].str[:-11] 






unemployment['Name'].str.split(',')





unemployment['Name'].str.split(',', expand = True)





unemployment['Name'].str.split(',', expand = True)[0]





unemployment['Name'] = unemployment['Name'].str.split(',', expand = True)[0]


unemployment.head()





pd.merge(left = population, right = unemployment)



