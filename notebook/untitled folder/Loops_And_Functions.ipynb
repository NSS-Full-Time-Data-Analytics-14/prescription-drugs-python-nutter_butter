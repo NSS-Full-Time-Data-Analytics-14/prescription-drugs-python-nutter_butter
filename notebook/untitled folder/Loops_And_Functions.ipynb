{
 "cells": [
  {
   "cell_type": "code",
   "execution_count": 2,
   "id": "03b80e83",
   "metadata": {},
   "outputs": [],
   "source": [
    "import pandas as pd"
   ]
  },
  {
   "cell_type": "markdown",
   "id": "4a98a2a0",
   "metadata": {},
   "source": [
    "## Syntax  - when do we use these?\n",
    "- `()` - when calling a function or method; to create a tuple\n",
    "- `{}` - when creating a dictionary or set \n",
    "- `[]` - when slicing an iterable; to create a list"
   ]
  },
  {
   "cell_type": "markdown",
   "id": "3f527d9d",
   "metadata": {},
   "source": [
    "### Tuple\n",
    "- An ordered, immutable collection\n",
    "- () are optional but prefered"
   ]
  },
  {
   "cell_type": "code",
   "execution_count": 3,
   "id": "68c6b78d",
   "metadata": {},
   "outputs": [],
   "source": [
    "tuple1 = ('Chris', 'Sobiya', 'Rene')"
   ]
  },
  {
   "cell_type": "code",
   "execution_count": 4,
   "id": "1ddf396c",
   "metadata": {},
   "outputs": [],
   "source": [
    "tuple2 = 'Chris', 'Sobiya', 'Rene'"
   ]
  },
  {
   "cell_type": "code",
   "execution_count": 5,
   "id": "0fc052a2",
   "metadata": {},
   "outputs": [
    {
     "name": "stdout",
     "output_type": "stream",
     "text": [
      "('Chris', 'Sobiya', 'Rene')\n",
      "('Chris', 'Sobiya', 'Rene')\n"
     ]
    }
   ],
   "source": [
    "print(tuple1)\n",
    "print(tuple2)"
   ]
  },
  {
   "cell_type": "code",
   "execution_count": 6,
   "id": "4141ab9b",
   "metadata": {},
   "outputs": [
    {
     "name": "stdout",
     "output_type": "stream",
     "text": [
      "('Chris', 'Sobiya', 'Rene', 'Chris', 'Sobiya', 'Rene')\n"
     ]
    }
   ],
   "source": [
    "tuple3 = tuple1 + tuple2\n",
    "print(tuple3)"
   ]
  },
  {
   "cell_type": "code",
   "execution_count": 7,
   "id": "26c58649",
   "metadata": {},
   "outputs": [
    {
     "data": {
      "text/plain": [
       "'Chris'"
      ]
     },
     "execution_count": 7,
     "metadata": {},
     "output_type": "execute_result"
    }
   ],
   "source": [
    "tuple3[0]"
   ]
  },
  {
   "cell_type": "code",
   "execution_count": 8,
   "id": "c0ee5d88",
   "metadata": {
    "scrolled": true
   },
   "outputs": [
    {
     "ename": "TypeError",
     "evalue": "'tuple' object does not support item assignment",
     "output_type": "error",
     "traceback": [
      "\u001b[0;31m---------------------------------------------------------------------------\u001b[0m",
      "\u001b[0;31mTypeError\u001b[0m                                 Traceback (most recent call last)",
      "Cell \u001b[0;32mIn[8], line 1\u001b[0m\n\u001b[0;32m----> 1\u001b[0m \u001b[43mtuple3\u001b[49m\u001b[43m[\u001b[49m\u001b[38;5;241;43m0\u001b[39;49m\u001b[43m]\u001b[49m \u001b[38;5;241m=\u001b[39m \u001b[38;5;124m'\u001b[39m\u001b[38;5;124mSteve\u001b[39m\u001b[38;5;124m'\u001b[39m\n",
      "\u001b[0;31mTypeError\u001b[0m: 'tuple' object does not support item assignment"
     ]
    }
   ],
   "source": [
    "tuple3[0] = 'Steve'"
   ]
  },
  {
   "cell_type": "markdown",
   "id": "be012d42",
   "metadata": {},
   "source": [
    "### Set\n",
    "- An unordered, collection of unique values\n",
    "- Uses {}"
   ]
  },
  {
   "cell_type": "code",
   "execution_count": 9,
   "id": "191bff01",
   "metadata": {},
   "outputs": [
    {
     "data": {
      "text/plain": [
       "('Chris', 'Sobiya', 'Rene', 'Chris', 'Sobiya', 'Rene')"
      ]
     },
     "execution_count": 9,
     "metadata": {},
     "output_type": "execute_result"
    }
   ],
   "source": [
    "tuple3"
   ]
  },
  {
   "cell_type": "code",
   "execution_count": 10,
   "id": "b868364f",
   "metadata": {},
   "outputs": [],
   "source": [
    "set1 = set(tuple3)"
   ]
  },
  {
   "cell_type": "code",
   "execution_count": 11,
   "id": "07f315bb",
   "metadata": {},
   "outputs": [
    {
     "data": {
      "text/plain": [
       "{'Chris', 'Rene', 'Sobiya'}"
      ]
     },
     "execution_count": 11,
     "metadata": {},
     "output_type": "execute_result"
    }
   ],
   "source": [
    "set1"
   ]
  },
  {
   "cell_type": "markdown",
   "id": "aff59185",
   "metadata": {},
   "source": [
    "### Dictionary\n",
    "- A collection of key:value pairs\n",
    "- Uses {}"
   ]
  },
  {
   "cell_type": "code",
   "execution_count": 12,
   "id": "3d00fabf",
   "metadata": {},
   "outputs": [],
   "source": [
    "dict1 = {1111 : \"April\" , 2222 : \"Jamal\", 3333 : \"Krystal\", 4444 : \"Lee\", 5555 : \"Carlos\"}"
   ]
  },
  {
   "cell_type": "code",
   "execution_count": 13,
   "id": "4ca4cbe9",
   "metadata": {},
   "outputs": [
    {
     "data": {
      "text/plain": [
       "'April'"
      ]
     },
     "execution_count": 13,
     "metadata": {},
     "output_type": "execute_result"
    }
   ],
   "source": [
    "dict1[1111]"
   ]
  },
  {
   "cell_type": "code",
   "execution_count": 14,
   "id": "087e45ed",
   "metadata": {},
   "outputs": [],
   "source": [
    "dict1[1111] = \"Fran\""
   ]
  },
  {
   "cell_type": "code",
   "execution_count": 15,
   "id": "0a273964",
   "metadata": {},
   "outputs": [
    {
     "data": {
      "text/plain": [
       "'Fran'"
      ]
     },
     "execution_count": 15,
     "metadata": {},
     "output_type": "execute_result"
    }
   ],
   "source": [
    "dict1[1111]"
   ]
  },
  {
   "cell_type": "code",
   "execution_count": 16,
   "id": "259a0399",
   "metadata": {},
   "outputs": [
    {
     "data": {
      "text/plain": [
       "{1111: 'Fran', 2222: 'Jamal', 3333: 'Krystal', 4444: 'Lee', 5555: 'Carlos'}"
      ]
     },
     "execution_count": 16,
     "metadata": {},
     "output_type": "execute_result"
    }
   ],
   "source": [
    "dict1"
   ]
  },
  {
   "cell_type": "markdown",
   "id": "aaea9c45",
   "metadata": {},
   "source": [
    "### List\n",
    "- A ordered, mutable collection\n",
    "- Uses []"
   ]
  },
  {
   "cell_type": "markdown",
   "id": "bd6a1e46",
   "metadata": {},
   "source": [
    "### Simple list of postive integers"
   ]
  },
  {
   "cell_type": "code",
   "execution_count": 17,
   "id": "cae7d54f",
   "metadata": {},
   "outputs": [],
   "source": [
    "numbers = [78, 43, 9, 13, 50, 23]"
   ]
  },
  {
   "cell_type": "code",
   "execution_count": 18,
   "id": "c7252044",
   "metadata": {},
   "outputs": [
    {
     "data": {
      "text/plain": [
       "78"
      ]
     },
     "execution_count": 18,
     "metadata": {},
     "output_type": "execute_result"
    }
   ],
   "source": [
    "numbers[0]"
   ]
  },
  {
   "cell_type": "code",
   "execution_count": 19,
   "id": "4a023177",
   "metadata": {},
   "outputs": [],
   "source": [
    "numbers[0] = 12"
   ]
  },
  {
   "cell_type": "code",
   "execution_count": 20,
   "id": "b097414e",
   "metadata": {},
   "outputs": [
    {
     "data": {
      "text/plain": [
       "[12, 43, 9, 13, 50, 23]"
      ]
     },
     "execution_count": 20,
     "metadata": {},
     "output_type": "execute_result"
    }
   ],
   "source": [
    "numbers"
   ]
  },
  {
   "cell_type": "code",
   "execution_count": 21,
   "id": "9255ff3e",
   "metadata": {},
   "outputs": [],
   "source": [
    "names = ['Fran', 'Jamal', 'Krystal', 'Lee', 'Carlos']"
   ]
  },
  {
   "cell_type": "code",
   "execution_count": 22,
   "id": "032b4944",
   "metadata": {},
   "outputs": [],
   "source": [
    "new_dict = dict(zip(names, numbers))"
   ]
  },
  {
   "cell_type": "code",
   "execution_count": 23,
   "id": "7c10cd68",
   "metadata": {},
   "outputs": [
    {
     "data": {
      "text/plain": [
       "{'Fran': 12, 'Jamal': 43, 'Krystal': 9, 'Lee': 13, 'Carlos': 50}"
      ]
     },
     "execution_count": 23,
     "metadata": {},
     "output_type": "execute_result"
    }
   ],
   "source": [
    "new_dict"
   ]
  },
  {
   "cell_type": "code",
   "execution_count": 24,
   "id": "b96aba76",
   "metadata": {},
   "outputs": [
    {
     "data": {
      "text/plain": [
       "['Fran', 'Jamal', 'Krystal', 'Lee', 'Carlos']"
      ]
     },
     "execution_count": 24,
     "metadata": {},
     "output_type": "execute_result"
    }
   ],
   "source": [
    "names"
   ]
  },
  {
   "cell_type": "code",
   "execution_count": 25,
   "id": "63ef9985",
   "metadata": {},
   "outputs": [
    {
     "data": {
      "text/plain": [
       "['Fran', 'Jamal', 'Krystal', 'Lee', 'Carlos', 'Ash']"
      ]
     },
     "execution_count": 25,
     "metadata": {},
     "output_type": "execute_result"
    }
   ],
   "source": [
    "names.append('Ash')\n",
    "names"
   ]
  },
  {
   "cell_type": "markdown",
   "id": "3a4b484b",
   "metadata": {},
   "source": [
    "### Itterate through the list of numbers printing each in turn"
   ]
  },
  {
   "cell_type": "code",
   "execution_count": 26,
   "id": "3baf5a02",
   "metadata": {},
   "outputs": [
    {
     "name": "stdout",
     "output_type": "stream",
     "text": [
      "Number: 12\n",
      "Number: 43\n",
      "Number: 9\n",
      "Number: 13\n",
      "Number: 50\n",
      "Number: 23\n"
     ]
    }
   ],
   "source": [
    "for num in numbers:\n",
    "    print('Number:', num)\n",
    "    "
   ]
  },
  {
   "cell_type": "markdown",
   "id": "11036987",
   "metadata": {},
   "source": [
    "### Find the largest number in a list greater than 0"
   ]
  },
  {
   "cell_type": "code",
   "execution_count": 27,
   "id": "20954833",
   "metadata": {},
   "outputs": [
    {
     "name": "stdout",
     "output_type": "stream",
     "text": [
      "The largest number is:  50\n"
     ]
    }
   ],
   "source": [
    "largest = 0\n",
    "\n",
    "for num in numbers:\n",
    "    if num > largest:\n",
    "        largest = num\n",
    "        \n",
    "print(\"The largest number is: \", largest)"
   ]
  },
  {
   "cell_type": "markdown",
   "id": "78190e18",
   "metadata": {},
   "source": [
    "### Use a counter to find the largest number of any list of at least 1 item"
   ]
  },
  {
   "cell_type": "code",
   "execution_count": 28,
   "id": "0607f71e",
   "metadata": {},
   "outputs": [
    {
     "name": "stdout",
     "output_type": "stream",
     "text": [
      "The largest number is:  50\n"
     ]
    }
   ],
   "source": [
    "count = 0\n",
    "\n",
    "for num in numbers:\n",
    "    if count == 0:\n",
    "        largest = num\n",
    "        \n",
    "    if num > largest:\n",
    "        largest = num\n",
    "    \n",
    "    count+=1\n",
    "\n",
    "print(\"The largest number is: \", largest)"
   ]
  },
  {
   "cell_type": "markdown",
   "id": "27c2944e",
   "metadata": {},
   "source": [
    "### Read in the schools_clean.csv and look at the resulting dataframe"
   ]
  },
  {
   "cell_type": "code",
   "execution_count": 29,
   "id": "3e545dc9",
   "metadata": {
    "scrolled": true
   },
   "outputs": [
    {
     "ename": "FileNotFoundError",
     "evalue": "[Errno 2] No such file or directory: 'schools_clean.csv'",
     "output_type": "error",
     "traceback": [
      "\u001b[0;31m---------------------------------------------------------------------------\u001b[0m",
      "\u001b[0;31mFileNotFoundError\u001b[0m                         Traceback (most recent call last)",
      "Cell \u001b[0;32mIn[29], line 1\u001b[0m\n\u001b[0;32m----> 1\u001b[0m schools \u001b[38;5;241m=\u001b[39m \u001b[43mpd\u001b[49m\u001b[38;5;241;43m.\u001b[39;49m\u001b[43mread_csv\u001b[49m\u001b[43m(\u001b[49m\u001b[38;5;124;43m\"\u001b[39;49m\u001b[38;5;124;43mschools_clean.csv\u001b[39;49m\u001b[38;5;124;43m\"\u001b[39;49m\u001b[43m)\u001b[49m\n",
      "File \u001b[0;32m/opt/anaconda3/envs/geospatial/lib/python3.10/site-packages/pandas/io/parsers/readers.py:1026\u001b[0m, in \u001b[0;36mread_csv\u001b[0;34m(filepath_or_buffer, sep, delimiter, header, names, index_col, usecols, dtype, engine, converters, true_values, false_values, skipinitialspace, skiprows, skipfooter, nrows, na_values, keep_default_na, na_filter, verbose, skip_blank_lines, parse_dates, infer_datetime_format, keep_date_col, date_parser, date_format, dayfirst, cache_dates, iterator, chunksize, compression, thousands, decimal, lineterminator, quotechar, quoting, doublequote, escapechar, comment, encoding, encoding_errors, dialect, on_bad_lines, delim_whitespace, low_memory, memory_map, float_precision, storage_options, dtype_backend)\u001b[0m\n\u001b[1;32m   1013\u001b[0m kwds_defaults \u001b[38;5;241m=\u001b[39m _refine_defaults_read(\n\u001b[1;32m   1014\u001b[0m     dialect,\n\u001b[1;32m   1015\u001b[0m     delimiter,\n\u001b[0;32m   (...)\u001b[0m\n\u001b[1;32m   1022\u001b[0m     dtype_backend\u001b[38;5;241m=\u001b[39mdtype_backend,\n\u001b[1;32m   1023\u001b[0m )\n\u001b[1;32m   1024\u001b[0m kwds\u001b[38;5;241m.\u001b[39mupdate(kwds_defaults)\n\u001b[0;32m-> 1026\u001b[0m \u001b[38;5;28;01mreturn\u001b[39;00m \u001b[43m_read\u001b[49m\u001b[43m(\u001b[49m\u001b[43mfilepath_or_buffer\u001b[49m\u001b[43m,\u001b[49m\u001b[43m \u001b[49m\u001b[43mkwds\u001b[49m\u001b[43m)\u001b[49m\n",
      "File \u001b[0;32m/opt/anaconda3/envs/geospatial/lib/python3.10/site-packages/pandas/io/parsers/readers.py:620\u001b[0m, in \u001b[0;36m_read\u001b[0;34m(filepath_or_buffer, kwds)\u001b[0m\n\u001b[1;32m    617\u001b[0m _validate_names(kwds\u001b[38;5;241m.\u001b[39mget(\u001b[38;5;124m\"\u001b[39m\u001b[38;5;124mnames\u001b[39m\u001b[38;5;124m\"\u001b[39m, \u001b[38;5;28;01mNone\u001b[39;00m))\n\u001b[1;32m    619\u001b[0m \u001b[38;5;66;03m# Create the parser.\u001b[39;00m\n\u001b[0;32m--> 620\u001b[0m parser \u001b[38;5;241m=\u001b[39m \u001b[43mTextFileReader\u001b[49m\u001b[43m(\u001b[49m\u001b[43mfilepath_or_buffer\u001b[49m\u001b[43m,\u001b[49m\u001b[43m \u001b[49m\u001b[38;5;241;43m*\u001b[39;49m\u001b[38;5;241;43m*\u001b[39;49m\u001b[43mkwds\u001b[49m\u001b[43m)\u001b[49m\n\u001b[1;32m    622\u001b[0m \u001b[38;5;28;01mif\u001b[39;00m chunksize \u001b[38;5;129;01mor\u001b[39;00m iterator:\n\u001b[1;32m    623\u001b[0m     \u001b[38;5;28;01mreturn\u001b[39;00m parser\n",
      "File \u001b[0;32m/opt/anaconda3/envs/geospatial/lib/python3.10/site-packages/pandas/io/parsers/readers.py:1620\u001b[0m, in \u001b[0;36mTextFileReader.__init__\u001b[0;34m(self, f, engine, **kwds)\u001b[0m\n\u001b[1;32m   1617\u001b[0m     \u001b[38;5;28mself\u001b[39m\u001b[38;5;241m.\u001b[39moptions[\u001b[38;5;124m\"\u001b[39m\u001b[38;5;124mhas_index_names\u001b[39m\u001b[38;5;124m\"\u001b[39m] \u001b[38;5;241m=\u001b[39m kwds[\u001b[38;5;124m\"\u001b[39m\u001b[38;5;124mhas_index_names\u001b[39m\u001b[38;5;124m\"\u001b[39m]\n\u001b[1;32m   1619\u001b[0m \u001b[38;5;28mself\u001b[39m\u001b[38;5;241m.\u001b[39mhandles: IOHandles \u001b[38;5;241m|\u001b[39m \u001b[38;5;28;01mNone\u001b[39;00m \u001b[38;5;241m=\u001b[39m \u001b[38;5;28;01mNone\u001b[39;00m\n\u001b[0;32m-> 1620\u001b[0m \u001b[38;5;28mself\u001b[39m\u001b[38;5;241m.\u001b[39m_engine \u001b[38;5;241m=\u001b[39m \u001b[38;5;28;43mself\u001b[39;49m\u001b[38;5;241;43m.\u001b[39;49m\u001b[43m_make_engine\u001b[49m\u001b[43m(\u001b[49m\u001b[43mf\u001b[49m\u001b[43m,\u001b[49m\u001b[43m \u001b[49m\u001b[38;5;28;43mself\u001b[39;49m\u001b[38;5;241;43m.\u001b[39;49m\u001b[43mengine\u001b[49m\u001b[43m)\u001b[49m\n",
      "File \u001b[0;32m/opt/anaconda3/envs/geospatial/lib/python3.10/site-packages/pandas/io/parsers/readers.py:1880\u001b[0m, in \u001b[0;36mTextFileReader._make_engine\u001b[0;34m(self, f, engine)\u001b[0m\n\u001b[1;32m   1878\u001b[0m     \u001b[38;5;28;01mif\u001b[39;00m \u001b[38;5;124m\"\u001b[39m\u001b[38;5;124mb\u001b[39m\u001b[38;5;124m\"\u001b[39m \u001b[38;5;129;01mnot\u001b[39;00m \u001b[38;5;129;01min\u001b[39;00m mode:\n\u001b[1;32m   1879\u001b[0m         mode \u001b[38;5;241m+\u001b[39m\u001b[38;5;241m=\u001b[39m \u001b[38;5;124m\"\u001b[39m\u001b[38;5;124mb\u001b[39m\u001b[38;5;124m\"\u001b[39m\n\u001b[0;32m-> 1880\u001b[0m \u001b[38;5;28mself\u001b[39m\u001b[38;5;241m.\u001b[39mhandles \u001b[38;5;241m=\u001b[39m \u001b[43mget_handle\u001b[49m\u001b[43m(\u001b[49m\n\u001b[1;32m   1881\u001b[0m \u001b[43m    \u001b[49m\u001b[43mf\u001b[49m\u001b[43m,\u001b[49m\n\u001b[1;32m   1882\u001b[0m \u001b[43m    \u001b[49m\u001b[43mmode\u001b[49m\u001b[43m,\u001b[49m\n\u001b[1;32m   1883\u001b[0m \u001b[43m    \u001b[49m\u001b[43mencoding\u001b[49m\u001b[38;5;241;43m=\u001b[39;49m\u001b[38;5;28;43mself\u001b[39;49m\u001b[38;5;241;43m.\u001b[39;49m\u001b[43moptions\u001b[49m\u001b[38;5;241;43m.\u001b[39;49m\u001b[43mget\u001b[49m\u001b[43m(\u001b[49m\u001b[38;5;124;43m\"\u001b[39;49m\u001b[38;5;124;43mencoding\u001b[39;49m\u001b[38;5;124;43m\"\u001b[39;49m\u001b[43m,\u001b[49m\u001b[43m \u001b[49m\u001b[38;5;28;43;01mNone\u001b[39;49;00m\u001b[43m)\u001b[49m\u001b[43m,\u001b[49m\n\u001b[1;32m   1884\u001b[0m \u001b[43m    \u001b[49m\u001b[43mcompression\u001b[49m\u001b[38;5;241;43m=\u001b[39;49m\u001b[38;5;28;43mself\u001b[39;49m\u001b[38;5;241;43m.\u001b[39;49m\u001b[43moptions\u001b[49m\u001b[38;5;241;43m.\u001b[39;49m\u001b[43mget\u001b[49m\u001b[43m(\u001b[49m\u001b[38;5;124;43m\"\u001b[39;49m\u001b[38;5;124;43mcompression\u001b[39;49m\u001b[38;5;124;43m\"\u001b[39;49m\u001b[43m,\u001b[49m\u001b[43m \u001b[49m\u001b[38;5;28;43;01mNone\u001b[39;49;00m\u001b[43m)\u001b[49m\u001b[43m,\u001b[49m\n\u001b[1;32m   1885\u001b[0m \u001b[43m    \u001b[49m\u001b[43mmemory_map\u001b[49m\u001b[38;5;241;43m=\u001b[39;49m\u001b[38;5;28;43mself\u001b[39;49m\u001b[38;5;241;43m.\u001b[39;49m\u001b[43moptions\u001b[49m\u001b[38;5;241;43m.\u001b[39;49m\u001b[43mget\u001b[49m\u001b[43m(\u001b[49m\u001b[38;5;124;43m\"\u001b[39;49m\u001b[38;5;124;43mmemory_map\u001b[39;49m\u001b[38;5;124;43m\"\u001b[39;49m\u001b[43m,\u001b[49m\u001b[43m \u001b[49m\u001b[38;5;28;43;01mFalse\u001b[39;49;00m\u001b[43m)\u001b[49m\u001b[43m,\u001b[49m\n\u001b[1;32m   1886\u001b[0m \u001b[43m    \u001b[49m\u001b[43mis_text\u001b[49m\u001b[38;5;241;43m=\u001b[39;49m\u001b[43mis_text\u001b[49m\u001b[43m,\u001b[49m\n\u001b[1;32m   1887\u001b[0m \u001b[43m    \u001b[49m\u001b[43merrors\u001b[49m\u001b[38;5;241;43m=\u001b[39;49m\u001b[38;5;28;43mself\u001b[39;49m\u001b[38;5;241;43m.\u001b[39;49m\u001b[43moptions\u001b[49m\u001b[38;5;241;43m.\u001b[39;49m\u001b[43mget\u001b[49m\u001b[43m(\u001b[49m\u001b[38;5;124;43m\"\u001b[39;49m\u001b[38;5;124;43mencoding_errors\u001b[39;49m\u001b[38;5;124;43m\"\u001b[39;49m\u001b[43m,\u001b[49m\u001b[43m \u001b[49m\u001b[38;5;124;43m\"\u001b[39;49m\u001b[38;5;124;43mstrict\u001b[39;49m\u001b[38;5;124;43m\"\u001b[39;49m\u001b[43m)\u001b[49m\u001b[43m,\u001b[49m\n\u001b[1;32m   1888\u001b[0m \u001b[43m    \u001b[49m\u001b[43mstorage_options\u001b[49m\u001b[38;5;241;43m=\u001b[39;49m\u001b[38;5;28;43mself\u001b[39;49m\u001b[38;5;241;43m.\u001b[39;49m\u001b[43moptions\u001b[49m\u001b[38;5;241;43m.\u001b[39;49m\u001b[43mget\u001b[49m\u001b[43m(\u001b[49m\u001b[38;5;124;43m\"\u001b[39;49m\u001b[38;5;124;43mstorage_options\u001b[39;49m\u001b[38;5;124;43m\"\u001b[39;49m\u001b[43m,\u001b[49m\u001b[43m \u001b[49m\u001b[38;5;28;43;01mNone\u001b[39;49;00m\u001b[43m)\u001b[49m\u001b[43m,\u001b[49m\n\u001b[1;32m   1889\u001b[0m \u001b[43m\u001b[49m\u001b[43m)\u001b[49m\n\u001b[1;32m   1890\u001b[0m \u001b[38;5;28;01massert\u001b[39;00m \u001b[38;5;28mself\u001b[39m\u001b[38;5;241m.\u001b[39mhandles \u001b[38;5;129;01mis\u001b[39;00m \u001b[38;5;129;01mnot\u001b[39;00m \u001b[38;5;28;01mNone\u001b[39;00m\n\u001b[1;32m   1891\u001b[0m f \u001b[38;5;241m=\u001b[39m \u001b[38;5;28mself\u001b[39m\u001b[38;5;241m.\u001b[39mhandles\u001b[38;5;241m.\u001b[39mhandle\n",
      "File \u001b[0;32m/opt/anaconda3/envs/geospatial/lib/python3.10/site-packages/pandas/io/common.py:873\u001b[0m, in \u001b[0;36mget_handle\u001b[0;34m(path_or_buf, mode, encoding, compression, memory_map, is_text, errors, storage_options)\u001b[0m\n\u001b[1;32m    868\u001b[0m \u001b[38;5;28;01melif\u001b[39;00m \u001b[38;5;28misinstance\u001b[39m(handle, \u001b[38;5;28mstr\u001b[39m):\n\u001b[1;32m    869\u001b[0m     \u001b[38;5;66;03m# Check whether the filename is to be opened in binary mode.\u001b[39;00m\n\u001b[1;32m    870\u001b[0m     \u001b[38;5;66;03m# Binary mode does not support 'encoding' and 'newline'.\u001b[39;00m\n\u001b[1;32m    871\u001b[0m     \u001b[38;5;28;01mif\u001b[39;00m ioargs\u001b[38;5;241m.\u001b[39mencoding \u001b[38;5;129;01mand\u001b[39;00m \u001b[38;5;124m\"\u001b[39m\u001b[38;5;124mb\u001b[39m\u001b[38;5;124m\"\u001b[39m \u001b[38;5;129;01mnot\u001b[39;00m \u001b[38;5;129;01min\u001b[39;00m ioargs\u001b[38;5;241m.\u001b[39mmode:\n\u001b[1;32m    872\u001b[0m         \u001b[38;5;66;03m# Encoding\u001b[39;00m\n\u001b[0;32m--> 873\u001b[0m         handle \u001b[38;5;241m=\u001b[39m \u001b[38;5;28;43mopen\u001b[39;49m\u001b[43m(\u001b[49m\n\u001b[1;32m    874\u001b[0m \u001b[43m            \u001b[49m\u001b[43mhandle\u001b[49m\u001b[43m,\u001b[49m\n\u001b[1;32m    875\u001b[0m \u001b[43m            \u001b[49m\u001b[43mioargs\u001b[49m\u001b[38;5;241;43m.\u001b[39;49m\u001b[43mmode\u001b[49m\u001b[43m,\u001b[49m\n\u001b[1;32m    876\u001b[0m \u001b[43m            \u001b[49m\u001b[43mencoding\u001b[49m\u001b[38;5;241;43m=\u001b[39;49m\u001b[43mioargs\u001b[49m\u001b[38;5;241;43m.\u001b[39;49m\u001b[43mencoding\u001b[49m\u001b[43m,\u001b[49m\n\u001b[1;32m    877\u001b[0m \u001b[43m            \u001b[49m\u001b[43merrors\u001b[49m\u001b[38;5;241;43m=\u001b[39;49m\u001b[43merrors\u001b[49m\u001b[43m,\u001b[49m\n\u001b[1;32m    878\u001b[0m \u001b[43m            \u001b[49m\u001b[43mnewline\u001b[49m\u001b[38;5;241;43m=\u001b[39;49m\u001b[38;5;124;43m\"\u001b[39;49m\u001b[38;5;124;43m\"\u001b[39;49m\u001b[43m,\u001b[49m\n\u001b[1;32m    879\u001b[0m \u001b[43m        \u001b[49m\u001b[43m)\u001b[49m\n\u001b[1;32m    880\u001b[0m     \u001b[38;5;28;01melse\u001b[39;00m:\n\u001b[1;32m    881\u001b[0m         \u001b[38;5;66;03m# Binary mode\u001b[39;00m\n\u001b[1;32m    882\u001b[0m         handle \u001b[38;5;241m=\u001b[39m \u001b[38;5;28mopen\u001b[39m(handle, ioargs\u001b[38;5;241m.\u001b[39mmode)\n",
      "\u001b[0;31mFileNotFoundError\u001b[0m: [Errno 2] No such file or directory: 'schools_clean.csv'"
     ]
    }
   ],
   "source": [
    "schools = pd.read_csv(\"schools_clean.csv\")"
   ]
  },
  {
   "cell_type": "code",
   "execution_count": null,
   "id": "7b4a7aa7",
   "metadata": {},
   "outputs": [],
   "source": [
    "schools"
   ]
  },
  {
   "cell_type": "markdown",
   "id": "5b249bcb",
   "metadata": {},
   "source": [
    "### Use iterrows to iterate though the dataframe, then, depending on school level, note the population of the highest grade served.\n",
    "### Use a '-1' to note any row that does not work"
   ]
  },
  {
   "cell_type": "code",
   "execution_count": 30,
   "id": "e724391e",
   "metadata": {},
   "outputs": [
    {
     "ename": "NameError",
     "evalue": "name 'schools' is not defined",
     "output_type": "error",
     "traceback": [
      "\u001b[0;31m---------------------------------------------------------------------------\u001b[0m",
      "\u001b[0;31mNameError\u001b[0m                                 Traceback (most recent call last)",
      "Cell \u001b[0;32mIn[30], line 1\u001b[0m\n\u001b[0;32m----> 1\u001b[0m \u001b[38;5;28;01mfor\u001b[39;00m index, row \u001b[38;5;129;01min\u001b[39;00m \u001b[43mschools\u001b[49m\u001b[38;5;241m.\u001b[39miterrows():\n\u001b[1;32m      2\u001b[0m     \u001b[38;5;28;01mif\u001b[39;00m row\u001b[38;5;241m.\u001b[39mlevel \u001b[38;5;241m==\u001b[39m \u001b[38;5;124m\"\u001b[39m\u001b[38;5;124mElementary School\u001b[39m\u001b[38;5;124m\"\u001b[39m:\n\u001b[1;32m      3\u001b[0m         schools\u001b[38;5;241m.\u001b[39mloc[index, \u001b[38;5;124m'\u001b[39m\u001b[38;5;124mhighest_grade\u001b[39m\u001b[38;5;124m'\u001b[39m] \u001b[38;5;241m=\u001b[39m schools\u001b[38;5;241m.\u001b[39mloc[index, \u001b[38;5;124m'\u001b[39m\u001b[38;5;124mgrade_4\u001b[39m\u001b[38;5;124m'\u001b[39m]\n",
      "\u001b[0;31mNameError\u001b[0m: name 'schools' is not defined"
     ]
    }
   ],
   "source": [
    "for index, row in schools.iterrows():\n",
    "    if row.level == \"Elementary School\":\n",
    "        schools.loc[index, 'highest_grade'] = schools.loc[index, 'grade_4']\n",
    "    elif row.level == \"Middle School\":\n",
    "        schools.loc[index, 'highest_grade'] = schools.loc[index, 'grade_8']\n",
    "    elif row.level == \"High School\":\n",
    "        schools.loc[index, \"highest_grade\"] = schools.loc[index, 'grade_12']\n",
    "    else:\n",
    "        schools.loc[index, \"highest_grade\"] = -1"
   ]
  },
  {
   "cell_type": "code",
   "execution_count": null,
   "id": "a3f70448",
   "metadata": {},
   "outputs": [],
   "source": [
    "schools"
   ]
  },
  {
   "cell_type": "markdown",
   "id": "4767c344",
   "metadata": {},
   "source": [
    "### Next we want to use a dictionary to act as a counter too see the frequency of languages used in a set of 100 tweets.   Please note, this is just an example of how, and this could more easily be done with a value_counts()."
   ]
  },
  {
   "cell_type": "code",
   "execution_count": null,
   "id": "4556b2c0",
   "metadata": {},
   "outputs": [],
   "source": [
    "tweets = pd.read_csv('tweets.csv')\n",
    "tweets.head()"
   ]
  },
  {
   "cell_type": "code",
   "execution_count": null,
   "id": "5e481837",
   "metadata": {},
   "outputs": [],
   "source": [
    "tweets.columns"
   ]
  },
  {
   "cell_type": "code",
   "execution_count": null,
   "id": "e7f7ddd8",
   "metadata": {},
   "outputs": [],
   "source": [
    "tweets.lang.value_counts()"
   ]
  },
  {
   "cell_type": "code",
   "execution_count": null,
   "id": "6c372cfd",
   "metadata": {},
   "outputs": [],
   "source": [
    "lang_dict = {}\n",
    "\n",
    "for lang in tweets.lang:\n",
    "    if lang not in lang_dict:\n",
    "        lang_dict[lang] = 1\n",
    "    else:\n",
    "        lang_dict[lang]+=1"
   ]
  },
  {
   "cell_type": "code",
   "execution_count": null,
   "id": "da7f1776",
   "metadata": {
    "scrolled": true
   },
   "outputs": [],
   "source": [
    "lang_dict"
   ]
  },
  {
   "cell_type": "code",
   "execution_count": null,
   "id": "54b698ec",
   "metadata": {},
   "outputs": [],
   "source": []
  },
  {
   "cell_type": "markdown",
   "id": "4118c58d",
   "metadata": {},
   "source": [
    "### Create a function that takes a temperature in Fahrenheit and return that temperature in Celcius"
   ]
  },
  {
   "cell_type": "code",
   "execution_count": null,
   "id": "6e07b9c4",
   "metadata": {},
   "outputs": [],
   "source": [
    "def temp_switch(temp):\n",
    "    \n",
    "    celcius = (temp - 32) * 5/9\n",
    "        \n",
    "    return celcius"
   ]
  },
  {
   "cell_type": "code",
   "execution_count": null,
   "id": "0817ed87",
   "metadata": {},
   "outputs": [],
   "source": [
    "temp_switch(0)"
   ]
  },
  {
   "cell_type": "markdown",
   "id": "7d3c6b23",
   "metadata": {},
   "source": [
    "### Create a function that accepts 2 arguements and give the largest number between 1 and x that evenly goes into y."
   ]
  },
  {
   "cell_type": "code",
   "execution_count": 1,
   "id": "99bd8759",
   "metadata": {},
   "outputs": [],
   "source": [
    "def moddy(x,y):\n",
    "    \n",
    "    highest = 0\n",
    "    for i in range(1, x):\n",
    "        \n",
    "        if y%i == 0:\n",
    "            highest = i\n",
    "    \n",
    "    return(highest)\n",
    "        "
   ]
  },
  {
   "cell_type": "markdown",
   "id": "440b4361",
   "metadata": {},
   "source": [
    "### Test our function"
   ]
  },
  {
   "cell_type": "code",
   "execution_count": null,
   "id": "4641bc25",
   "metadata": {},
   "outputs": [],
   "source": [
    "moddy(13, 28)"
   ]
  },
  {
   "cell_type": "markdown",
   "id": "2cabe4d1-f160-494f-892d-06e63d651377",
   "metadata": {},
   "source": [
    "# End of Instruction"
   ]
  },
  {
   "cell_type": "markdown",
   "id": "98cca046-b235-406f-a4be-1576f20c901e",
   "metadata": {},
   "source": [
    "### Read in the hofplayers data"
   ]
  },
  {
   "cell_type": "code",
   "execution_count": null,
   "id": "d1b8e2a6-d41e-4067-8f9d-acafb94742d6",
   "metadata": {},
   "outputs": [],
   "source": []
  },
  {
   "cell_type": "markdown",
   "id": "d66ef8b5-56b9-451b-9015-54ed7c097151",
   "metadata": {},
   "source": [
    "### Create a loop that goes through each row of the dataframe to see if that players birth country and death country were the same.\n",
    "### If they were, then see if the birth state and death state were the same. if they were check to see if the birth city and death city are the same\n",
    "### Each players should be categorized Either: \"Same Country\", \"Same State\", \"Same City\", \"Unknown\""
   ]
  },
  {
   "cell_type": "code",
   "execution_count": null,
   "id": "3bb5bde8-faa8-4587-b948-acad80fa9789",
   "metadata": {},
   "outputs": [],
   "source": []
  },
  {
   "cell_type": "markdown",
   "id": "6859628e-c5de-45c7-a15d-538278ef127a",
   "metadata": {},
   "source": [
    "### Create a counter dictionary that counts the number of player in the hall of fame by state"
   ]
  },
  {
   "cell_type": "code",
   "execution_count": null,
   "id": "422bae27-cd30-43c6-93b5-21a83601175a",
   "metadata": {},
   "outputs": [],
   "source": []
  }
 ],
 "metadata": {
  "kernelspec": {
   "display_name": "Python 3 (ipykernel)",
   "language": "python",
   "name": "python3"
  },
  "language_info": {
   "codemirror_mode": {
    "name": "ipython",
    "version": 3
   },
   "file_extension": ".py",
   "mimetype": "text/x-python",
   "name": "python",
   "nbconvert_exporter": "python",
   "pygments_lexer": "ipython3",
   "version": "3.12.4"
  }
 },
 "nbformat": 4,
 "nbformat_minor": 5
}
