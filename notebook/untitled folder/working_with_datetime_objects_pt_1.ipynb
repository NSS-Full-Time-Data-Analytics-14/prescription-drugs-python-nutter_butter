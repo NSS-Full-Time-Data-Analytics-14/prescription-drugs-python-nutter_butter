{
 "cells": [
  {
   "cell_type": "code",
   "execution_count": 27,
   "metadata": {},
   "outputs": [],
   "source": [
    "import matplotlib.pyplot as plt\n",
    "import seaborn as sns\n",
    "import pandas as pd"
   ]
  },
  {
   "cell_type": "markdown",
   "metadata": {},
   "source": [
    "### Data Types: all objects in python have a type. You can check the type by using the _type()_ function. Here are a few standard ones"
   ]
  },
  {
   "cell_type": "code",
   "execution_count": 28,
   "metadata": {},
   "outputs": [
    {
     "data": {
      "text/plain": [
       "float"
      ]
     },
     "execution_count": 28,
     "metadata": {},
     "output_type": "execute_result"
    }
   ],
   "source": [
    "type(1.5)"
   ]
  },
  {
   "cell_type": "code",
   "execution_count": 29,
   "metadata": {},
   "outputs": [
    {
     "data": {
      "text/plain": [
       "int"
      ]
     },
     "execution_count": 29,
     "metadata": {},
     "output_type": "execute_result"
    }
   ],
   "source": [
    "type(3)"
   ]
  },
  {
   "cell_type": "code",
   "execution_count": 30,
   "metadata": {},
   "outputs": [
    {
     "data": {
      "text/plain": [
       "str"
      ]
     },
     "execution_count": 30,
     "metadata": {},
     "output_type": "execute_result"
    }
   ],
   "source": [
    "type('abc')"
   ]
  },
  {
   "cell_type": "code",
   "execution_count": 31,
   "metadata": {},
   "outputs": [
    {
     "data": {
      "text/plain": [
       "bool"
      ]
     },
     "execution_count": 31,
     "metadata": {},
     "output_type": "execute_result"
    }
   ],
   "source": [
    "type(True)"
   ]
  },
  {
   "cell_type": "markdown",
   "metadata": {},
   "source": [
    "### You can convert between types"
   ]
  },
  {
   "cell_type": "code",
   "execution_count": 32,
   "metadata": {},
   "outputs": [
    {
     "data": {
      "text/plain": [
       "1.0"
      ]
     },
     "execution_count": 32,
     "metadata": {},
     "output_type": "execute_result"
    }
   ],
   "source": [
    "float(1)"
   ]
  },
  {
   "cell_type": "code",
   "execution_count": 33,
   "metadata": {},
   "outputs": [
    {
     "data": {
      "text/plain": [
       "'1'"
      ]
     },
     "execution_count": 33,
     "metadata": {},
     "output_type": "execute_result"
    }
   ],
   "source": [
    "str(1)"
   ]
  },
  {
   "cell_type": "code",
   "execution_count": 34,
   "metadata": {},
   "outputs": [
    {
     "data": {
      "text/plain": [
       "9"
      ]
     },
     "execution_count": 34,
     "metadata": {},
     "output_type": "execute_result"
    }
   ],
   "source": [
    "int('9')"
   ]
  },
  {
   "cell_type": "code",
   "execution_count": 35,
   "metadata": {},
   "outputs": [
    {
     "data": {
      "text/plain": [
       "9"
      ]
     },
     "execution_count": 35,
     "metadata": {},
     "output_type": "execute_result"
    }
   ],
   "source": [
    "int(9.9)"
   ]
  },
  {
   "cell_type": "markdown",
   "metadata": {},
   "source": [
    "### DataFrames also have a type"
   ]
  },
  {
   "cell_type": "code",
   "execution_count": 36,
   "metadata": {},
   "outputs": [],
   "source": [
    "accidents = pd.read_csv('../data/Traffic_Accidents_2019.csv')"
   ]
  },
  {
   "cell_type": "code",
   "execution_count": 37,
   "metadata": {
    "scrolled": true
   },
   "outputs": [
    {
     "data": {
      "text/plain": [
       "pandas.core.frame.DataFrame"
      ]
     },
     "execution_count": 37,
     "metadata": {},
     "output_type": "execute_result"
    }
   ],
   "source": [
    "type(accidents)"
   ]
  },
  {
   "cell_type": "markdown",
   "metadata": {},
   "source": [
    "### And each column has a type"
   ]
  },
  {
   "cell_type": "code",
   "execution_count": 38,
   "metadata": {},
   "outputs": [
    {
     "name": "stdout",
     "output_type": "stream",
     "text": [
      "<class 'pandas.core.frame.DataFrame'>\n",
      "RangeIndex: 34692 entries, 0 to 34691\n",
      "Data columns (total 25 columns):\n",
      " #   Column                      Non-Null Count  Dtype  \n",
      "---  ------                      --------------  -----  \n",
      " 0   Accident Number             34692 non-null  int64  \n",
      " 1   Date and Time               34692 non-null  object \n",
      " 2   Number of Motor Vehicles    34692 non-null  int64  \n",
      " 3   Number of Injuries          34692 non-null  int64  \n",
      " 4   Number of Fatalities        34692 non-null  int64  \n",
      " 5   Property Damage             2495 non-null   object \n",
      " 6   Hit and Run                 34691 non-null  object \n",
      " 7   Reporting Officer           34684 non-null  float64\n",
      " 8   Collision Type Code         34688 non-null  float64\n",
      " 9   Collision Type Description  34688 non-null  object \n",
      " 10  Weather Code                34641 non-null  float64\n",
      " 11  Weather Description         34641 non-null  object \n",
      " 12  Illumination Code           34665 non-null  float64\n",
      " 13  Illumination Description    34665 non-null  object \n",
      " 14  Harmful Code                34692 non-null  object \n",
      " 15  Harmful Code Description    34333 non-null  object \n",
      " 16  Street Address              34691 non-null  object \n",
      " 17  City                        34692 non-null  object \n",
      " 18  State                       34692 non-null  object \n",
      " 19  ZIP                         34658 non-null  float64\n",
      " 20  RPA                         34681 non-null  float64\n",
      " 21  Precinct                    34681 non-null  object \n",
      " 22  Latitude                    34670 non-null  float64\n",
      " 23  Longitude                   34670 non-null  float64\n",
      " 24  Mapped Location             34670 non-null  object \n",
      "dtypes: float64(8), int64(4), object(13)\n",
      "memory usage: 6.6+ MB\n"
     ]
    }
   ],
   "source": [
    "accidents.info()"
   ]
  },
  {
   "cell_type": "code",
   "execution_count": 39,
   "metadata": {},
   "outputs": [
    {
     "data": {
      "text/plain": [
       "Accident Number                 int64\n",
       "Date and Time                  object\n",
       "Number of Motor Vehicles        int64\n",
       "Number of Injuries              int64\n",
       "Number of Fatalities            int64\n",
       "Property Damage                object\n",
       "Hit and Run                    object\n",
       "Reporting Officer             float64\n",
       "Collision Type Code           float64\n",
       "Collision Type Description     object\n",
       "Weather Code                  float64\n",
       "Weather Description            object\n",
       "Illumination Code             float64\n",
       "Illumination Description       object\n",
       "Harmful Code                   object\n",
       "Harmful Code Description       object\n",
       "Street Address                 object\n",
       "City                           object\n",
       "State                          object\n",
       "ZIP                           float64\n",
       "RPA                           float64\n",
       "Precinct                       object\n",
       "Latitude                      float64\n",
       "Longitude                     float64\n",
       "Mapped Location                object\n",
       "dtype: object"
      ]
     },
     "execution_count": 39,
     "metadata": {},
     "output_type": "execute_result"
    }
   ],
   "source": [
    "accidents.dtypes"
   ]
  },
  {
   "cell_type": "code",
   "execution_count": 40,
   "metadata": {
    "scrolled": true
   },
   "outputs": [
    {
     "data": {
      "text/html": [
       "<div>\n",
       "<style scoped>\n",
       "    .dataframe tbody tr th:only-of-type {\n",
       "        vertical-align: middle;\n",
       "    }\n",
       "\n",
       "    .dataframe tbody tr th {\n",
       "        vertical-align: top;\n",
       "    }\n",
       "\n",
       "    .dataframe thead th {\n",
       "        text-align: right;\n",
       "    }\n",
       "</style>\n",
       "<table border=\"1\" class=\"dataframe\">\n",
       "  <thead>\n",
       "    <tr style=\"text-align: right;\">\n",
       "      <th></th>\n",
       "      <th>Accident Number</th>\n",
       "      <th>Date and Time</th>\n",
       "      <th>Number of Motor Vehicles</th>\n",
       "      <th>Number of Injuries</th>\n",
       "      <th>Number of Fatalities</th>\n",
       "      <th>Property Damage</th>\n",
       "      <th>Hit and Run</th>\n",
       "      <th>Reporting Officer</th>\n",
       "      <th>Collision Type Code</th>\n",
       "      <th>Collision Type Description</th>\n",
       "      <th>...</th>\n",
       "      <th>Harmful Code Description</th>\n",
       "      <th>Street Address</th>\n",
       "      <th>City</th>\n",
       "      <th>State</th>\n",
       "      <th>ZIP</th>\n",
       "      <th>RPA</th>\n",
       "      <th>Precinct</th>\n",
       "      <th>Latitude</th>\n",
       "      <th>Longitude</th>\n",
       "      <th>Mapped Location</th>\n",
       "    </tr>\n",
       "  </thead>\n",
       "  <tbody>\n",
       "    <tr>\n",
       "      <th>0</th>\n",
       "      <td>20190038972</td>\n",
       "      <td>01/15/2019 07:40:00 PM</td>\n",
       "      <td>2</td>\n",
       "      <td>0</td>\n",
       "      <td>0</td>\n",
       "      <td>NaN</td>\n",
       "      <td>N</td>\n",
       "      <td>256374.0</td>\n",
       "      <td>4.0</td>\n",
       "      <td>ANGLE</td>\n",
       "      <td>...</td>\n",
       "      <td>MOTOR VEHICLE IN TRANSPORT</td>\n",
       "      <td>BELL RD &amp; CEDAR POINTE PKWY</td>\n",
       "      <td>ANTIOCH</td>\n",
       "      <td>TN</td>\n",
       "      <td>37013.0</td>\n",
       "      <td>8753.0</td>\n",
       "      <td>SOUTH</td>\n",
       "      <td>36.0449</td>\n",
       "      <td>-86.6671</td>\n",
       "      <td>POINT (-86.6671 36.0449)</td>\n",
       "    </tr>\n",
       "    <tr>\n",
       "      <th>1</th>\n",
       "      <td>20190045402</td>\n",
       "      <td>01/17/2019 11:09:00 PM</td>\n",
       "      <td>2</td>\n",
       "      <td>0</td>\n",
       "      <td>0</td>\n",
       "      <td>NaN</td>\n",
       "      <td>Y</td>\n",
       "      <td>405424.0</td>\n",
       "      <td>11.0</td>\n",
       "      <td>Front to Rear</td>\n",
       "      <td>...</td>\n",
       "      <td>PARKED MOTOR VEHICLE</td>\n",
       "      <td>3248 PERCY PRIEST DR</td>\n",
       "      <td>NASHVILLE</td>\n",
       "      <td>TN</td>\n",
       "      <td>37214.0</td>\n",
       "      <td>8955.0</td>\n",
       "      <td>HERMIT</td>\n",
       "      <td>36.1531</td>\n",
       "      <td>-86.6291</td>\n",
       "      <td>POINT (-86.6291 36.1531)</td>\n",
       "    </tr>\n",
       "    <tr>\n",
       "      <th>2</th>\n",
       "      <td>20190051468</td>\n",
       "      <td>01/20/2019 12:57:00 PM</td>\n",
       "      <td>2</td>\n",
       "      <td>0</td>\n",
       "      <td>0</td>\n",
       "      <td>NaN</td>\n",
       "      <td>N</td>\n",
       "      <td>834798.0</td>\n",
       "      <td>6.0</td>\n",
       "      <td>SIDESWIPE - OPPOSITE DIRECTION</td>\n",
       "      <td>...</td>\n",
       "      <td>PARKED MOTOR VEHICLE</td>\n",
       "      <td>700 THOMPSON LN</td>\n",
       "      <td>NASHVILLE</td>\n",
       "      <td>TN</td>\n",
       "      <td>37204.0</td>\n",
       "      <td>8305.0</td>\n",
       "      <td>MIDTOW</td>\n",
       "      <td>36.1122</td>\n",
       "      <td>-86.7625</td>\n",
       "      <td>POINT (-86.7625 36.1122)</td>\n",
       "    </tr>\n",
       "    <tr>\n",
       "      <th>3</th>\n",
       "      <td>20190088097</td>\n",
       "      <td>02/02/2019 12:38:00 AM</td>\n",
       "      <td>2</td>\n",
       "      <td>0</td>\n",
       "      <td>0</td>\n",
       "      <td>NaN</td>\n",
       "      <td>Y</td>\n",
       "      <td>660929.0</td>\n",
       "      <td>4.0</td>\n",
       "      <td>ANGLE</td>\n",
       "      <td>...</td>\n",
       "      <td>MOTOR VEHICLE IN TRANSPORT;PARKED MOTOR VEHICLE</td>\n",
       "      <td>400 RADNO</td>\n",
       "      <td>NASHVILLE</td>\n",
       "      <td>TN</td>\n",
       "      <td>NaN</td>\n",
       "      <td>NaN</td>\n",
       "      <td>NaN</td>\n",
       "      <td>36.0483</td>\n",
       "      <td>-86.4369</td>\n",
       "      <td>POINT (-86.4369 36.0483)</td>\n",
       "    </tr>\n",
       "    <tr>\n",
       "      <th>4</th>\n",
       "      <td>20190091289</td>\n",
       "      <td>02/03/2019 01:25:00 PM</td>\n",
       "      <td>2</td>\n",
       "      <td>0</td>\n",
       "      <td>0</td>\n",
       "      <td>NaN</td>\n",
       "      <td>N</td>\n",
       "      <td>212369.0</td>\n",
       "      <td>4.0</td>\n",
       "      <td>ANGLE</td>\n",
       "      <td>...</td>\n",
       "      <td>MOTOR VEHICLE IN TRANSPORT</td>\n",
       "      <td>ELLINGTON AG CENTER PVTDR &amp; EDMONDSON PK</td>\n",
       "      <td>NASHVILLE</td>\n",
       "      <td>TN</td>\n",
       "      <td>37220.0</td>\n",
       "      <td>8615.0</td>\n",
       "      <td>MIDTOW</td>\n",
       "      <td>36.0618</td>\n",
       "      <td>-86.7405</td>\n",
       "      <td>POINT (-86.7405 36.0618)</td>\n",
       "    </tr>\n",
       "  </tbody>\n",
       "</table>\n",
       "<p>5 rows × 25 columns</p>\n",
       "</div>"
      ],
      "text/plain": [
       "   Accident Number           Date and Time  Number of Motor Vehicles  \\\n",
       "0      20190038972  01/15/2019 07:40:00 PM                         2   \n",
       "1      20190045402  01/17/2019 11:09:00 PM                         2   \n",
       "2      20190051468  01/20/2019 12:57:00 PM                         2   \n",
       "3      20190088097  02/02/2019 12:38:00 AM                         2   \n",
       "4      20190091289  02/03/2019 01:25:00 PM                         2   \n",
       "\n",
       "   Number of Injuries  Number of Fatalities Property Damage Hit and Run  \\\n",
       "0                   0                     0             NaN           N   \n",
       "1                   0                     0             NaN           Y   \n",
       "2                   0                     0             NaN           N   \n",
       "3                   0                     0             NaN           Y   \n",
       "4                   0                     0             NaN           N   \n",
       "\n",
       "   Reporting Officer  Collision Type Code      Collision Type Description  \\\n",
       "0           256374.0                  4.0                           ANGLE   \n",
       "1           405424.0                 11.0                   Front to Rear   \n",
       "2           834798.0                  6.0  SIDESWIPE - OPPOSITE DIRECTION   \n",
       "3           660929.0                  4.0                           ANGLE   \n",
       "4           212369.0                  4.0                           ANGLE   \n",
       "\n",
       "   ...                         Harmful Code Description  \\\n",
       "0  ...                       MOTOR VEHICLE IN TRANSPORT   \n",
       "1  ...                             PARKED MOTOR VEHICLE   \n",
       "2  ...                             PARKED MOTOR VEHICLE   \n",
       "3  ...  MOTOR VEHICLE IN TRANSPORT;PARKED MOTOR VEHICLE   \n",
       "4  ...                       MOTOR VEHICLE IN TRANSPORT   \n",
       "\n",
       "                             Street Address       City State      ZIP     RPA  \\\n",
       "0               BELL RD & CEDAR POINTE PKWY    ANTIOCH    TN  37013.0  8753.0   \n",
       "1                      3248 PERCY PRIEST DR  NASHVILLE    TN  37214.0  8955.0   \n",
       "2                           700 THOMPSON LN  NASHVILLE    TN  37204.0  8305.0   \n",
       "3                                 400 RADNO  NASHVILLE    TN      NaN     NaN   \n",
       "4  ELLINGTON AG CENTER PVTDR & EDMONDSON PK  NASHVILLE    TN  37220.0  8615.0   \n",
       "\n",
       "  Precinct Latitude Longitude           Mapped Location  \n",
       "0    SOUTH  36.0449  -86.6671  POINT (-86.6671 36.0449)  \n",
       "1   HERMIT  36.1531  -86.6291  POINT (-86.6291 36.1531)  \n",
       "2   MIDTOW  36.1122  -86.7625  POINT (-86.7625 36.1122)  \n",
       "3      NaN  36.0483  -86.4369  POINT (-86.4369 36.0483)  \n",
       "4   MIDTOW  36.0618  -86.7405  POINT (-86.7405 36.0618)  \n",
       "\n",
       "[5 rows x 25 columns]"
      ]
     },
     "execution_count": 40,
     "metadata": {},
     "output_type": "execute_result"
    }
   ],
   "source": [
    "accidents.head()"
   ]
  },
  {
   "cell_type": "markdown",
   "metadata": {},
   "source": [
    "### One data type you will encounter is a `datetime`"
   ]
  },
  {
   "cell_type": "markdown",
   "metadata": {},
   "source": [
    "### The `Date and Time` column in the `accidents` dataframe is treated as an `object` but we can convert it to a different type, such as a `datetime` "
   ]
  },
  {
   "cell_type": "code",
   "execution_count": 41,
   "metadata": {},
   "outputs": [
    {
     "name": "stderr",
     "output_type": "stream",
     "text": [
      "/var/folders/q1/g8w_03zs6gvbwv16kzb3fvk80000gn/T/ipykernel_36264/1879831735.py:2: UserWarning: Could not infer format, so each element will be parsed individually, falling back to `dateutil`. To ensure parsing is consistent and as-expected, please specify a format.\n",
      "  accidents['Date and Time'] = pd.to_datetime(accidents['Date and Time'])\n"
     ]
    }
   ],
   "source": [
    "# Let's convert the 'Date and Time' column to a datetime and assign it back to itself\n",
    "accidents['Date and Time'] = pd.to_datetime(accidents['Date and Time'])\n",
    "\n",
    "\n",
    "# pd.to_datetime will infer the different date and time components of the string.\n",
    "# If the datetime is in a strange format or you want to be explicit you can use the 'format' argument\n",
    "# You will have to use datetime symbols: \n",
    "# https://docs.python.org/3/library/datetime.html#strftime-and-strptime-behavior\n",
    "\n",
    "# It will take a second to run..."
   ]
  },
  {
   "cell_type": "code",
   "execution_count": 42,
   "metadata": {},
   "outputs": [
    {
     "data": {
      "text/plain": [
       "Accident Number                        int64\n",
       "Date and Time                 datetime64[ns]\n",
       "Number of Motor Vehicles               int64\n",
       "Number of Injuries                     int64\n",
       "Number of Fatalities                   int64\n",
       "Property Damage                       object\n",
       "Hit and Run                           object\n",
       "Reporting Officer                    float64\n",
       "Collision Type Code                  float64\n",
       "Collision Type Description            object\n",
       "Weather Code                         float64\n",
       "Weather Description                   object\n",
       "Illumination Code                    float64\n",
       "Illumination Description              object\n",
       "Harmful Code                          object\n",
       "Harmful Code Description              object\n",
       "Street Address                        object\n",
       "City                                  object\n",
       "State                                 object\n",
       "ZIP                                  float64\n",
       "RPA                                  float64\n",
       "Precinct                              object\n",
       "Latitude                             float64\n",
       "Longitude                            float64\n",
       "Mapped Location                       object\n",
       "dtype: object"
      ]
     },
     "execution_count": 42,
     "metadata": {},
     "output_type": "execute_result"
    }
   ],
   "source": [
    "# Now the column is a datetime64[ns]\n",
    "accidents.dtypes"
   ]
  },
  {
   "cell_type": "code",
   "execution_count": 43,
   "metadata": {},
   "outputs": [
    {
     "data": {
      "text/html": [
       "<div>\n",
       "<style scoped>\n",
       "    .dataframe tbody tr th:only-of-type {\n",
       "        vertical-align: middle;\n",
       "    }\n",
       "\n",
       "    .dataframe tbody tr th {\n",
       "        vertical-align: top;\n",
       "    }\n",
       "\n",
       "    .dataframe thead th {\n",
       "        text-align: right;\n",
       "    }\n",
       "</style>\n",
       "<table border=\"1\" class=\"dataframe\">\n",
       "  <thead>\n",
       "    <tr style=\"text-align: right;\">\n",
       "      <th></th>\n",
       "      <th>Accident Number</th>\n",
       "      <th>Date and Time</th>\n",
       "      <th>Number of Motor Vehicles</th>\n",
       "      <th>Number of Injuries</th>\n",
       "      <th>Number of Fatalities</th>\n",
       "      <th>Property Damage</th>\n",
       "      <th>Hit and Run</th>\n",
       "      <th>Reporting Officer</th>\n",
       "      <th>Collision Type Code</th>\n",
       "      <th>Collision Type Description</th>\n",
       "      <th>...</th>\n",
       "      <th>Harmful Code Description</th>\n",
       "      <th>Street Address</th>\n",
       "      <th>City</th>\n",
       "      <th>State</th>\n",
       "      <th>ZIP</th>\n",
       "      <th>RPA</th>\n",
       "      <th>Precinct</th>\n",
       "      <th>Latitude</th>\n",
       "      <th>Longitude</th>\n",
       "      <th>Mapped Location</th>\n",
       "    </tr>\n",
       "  </thead>\n",
       "  <tbody>\n",
       "    <tr>\n",
       "      <th>0</th>\n",
       "      <td>20190038972</td>\n",
       "      <td>2019-01-15 19:40:00</td>\n",
       "      <td>2</td>\n",
       "      <td>0</td>\n",
       "      <td>0</td>\n",
       "      <td>NaN</td>\n",
       "      <td>N</td>\n",
       "      <td>256374.0</td>\n",
       "      <td>4.0</td>\n",
       "      <td>ANGLE</td>\n",
       "      <td>...</td>\n",
       "      <td>MOTOR VEHICLE IN TRANSPORT</td>\n",
       "      <td>BELL RD &amp; CEDAR POINTE PKWY</td>\n",
       "      <td>ANTIOCH</td>\n",
       "      <td>TN</td>\n",
       "      <td>37013.0</td>\n",
       "      <td>8753.0</td>\n",
       "      <td>SOUTH</td>\n",
       "      <td>36.0449</td>\n",
       "      <td>-86.6671</td>\n",
       "      <td>POINT (-86.6671 36.0449)</td>\n",
       "    </tr>\n",
       "    <tr>\n",
       "      <th>1</th>\n",
       "      <td>20190045402</td>\n",
       "      <td>2019-01-17 23:09:00</td>\n",
       "      <td>2</td>\n",
       "      <td>0</td>\n",
       "      <td>0</td>\n",
       "      <td>NaN</td>\n",
       "      <td>Y</td>\n",
       "      <td>405424.0</td>\n",
       "      <td>11.0</td>\n",
       "      <td>Front to Rear</td>\n",
       "      <td>...</td>\n",
       "      <td>PARKED MOTOR VEHICLE</td>\n",
       "      <td>3248 PERCY PRIEST DR</td>\n",
       "      <td>NASHVILLE</td>\n",
       "      <td>TN</td>\n",
       "      <td>37214.0</td>\n",
       "      <td>8955.0</td>\n",
       "      <td>HERMIT</td>\n",
       "      <td>36.1531</td>\n",
       "      <td>-86.6291</td>\n",
       "      <td>POINT (-86.6291 36.1531)</td>\n",
       "    </tr>\n",
       "    <tr>\n",
       "      <th>2</th>\n",
       "      <td>20190051468</td>\n",
       "      <td>2019-01-20 12:57:00</td>\n",
       "      <td>2</td>\n",
       "      <td>0</td>\n",
       "      <td>0</td>\n",
       "      <td>NaN</td>\n",
       "      <td>N</td>\n",
       "      <td>834798.0</td>\n",
       "      <td>6.0</td>\n",
       "      <td>SIDESWIPE - OPPOSITE DIRECTION</td>\n",
       "      <td>...</td>\n",
       "      <td>PARKED MOTOR VEHICLE</td>\n",
       "      <td>700 THOMPSON LN</td>\n",
       "      <td>NASHVILLE</td>\n",
       "      <td>TN</td>\n",
       "      <td>37204.0</td>\n",
       "      <td>8305.0</td>\n",
       "      <td>MIDTOW</td>\n",
       "      <td>36.1122</td>\n",
       "      <td>-86.7625</td>\n",
       "      <td>POINT (-86.7625 36.1122)</td>\n",
       "    </tr>\n",
       "    <tr>\n",
       "      <th>3</th>\n",
       "      <td>20190088097</td>\n",
       "      <td>2019-02-02 00:38:00</td>\n",
       "      <td>2</td>\n",
       "      <td>0</td>\n",
       "      <td>0</td>\n",
       "      <td>NaN</td>\n",
       "      <td>Y</td>\n",
       "      <td>660929.0</td>\n",
       "      <td>4.0</td>\n",
       "      <td>ANGLE</td>\n",
       "      <td>...</td>\n",
       "      <td>MOTOR VEHICLE IN TRANSPORT;PARKED MOTOR VEHICLE</td>\n",
       "      <td>400 RADNO</td>\n",
       "      <td>NASHVILLE</td>\n",
       "      <td>TN</td>\n",
       "      <td>NaN</td>\n",
       "      <td>NaN</td>\n",
       "      <td>NaN</td>\n",
       "      <td>36.0483</td>\n",
       "      <td>-86.4369</td>\n",
       "      <td>POINT (-86.4369 36.0483)</td>\n",
       "    </tr>\n",
       "    <tr>\n",
       "      <th>4</th>\n",
       "      <td>20190091289</td>\n",
       "      <td>2019-02-03 13:25:00</td>\n",
       "      <td>2</td>\n",
       "      <td>0</td>\n",
       "      <td>0</td>\n",
       "      <td>NaN</td>\n",
       "      <td>N</td>\n",
       "      <td>212369.0</td>\n",
       "      <td>4.0</td>\n",
       "      <td>ANGLE</td>\n",
       "      <td>...</td>\n",
       "      <td>MOTOR VEHICLE IN TRANSPORT</td>\n",
       "      <td>ELLINGTON AG CENTER PVTDR &amp; EDMONDSON PK</td>\n",
       "      <td>NASHVILLE</td>\n",
       "      <td>TN</td>\n",
       "      <td>37220.0</td>\n",
       "      <td>8615.0</td>\n",
       "      <td>MIDTOW</td>\n",
       "      <td>36.0618</td>\n",
       "      <td>-86.7405</td>\n",
       "      <td>POINT (-86.7405 36.0618)</td>\n",
       "    </tr>\n",
       "  </tbody>\n",
       "</table>\n",
       "<p>5 rows × 25 columns</p>\n",
       "</div>"
      ],
      "text/plain": [
       "   Accident Number       Date and Time  Number of Motor Vehicles  \\\n",
       "0      20190038972 2019-01-15 19:40:00                         2   \n",
       "1      20190045402 2019-01-17 23:09:00                         2   \n",
       "2      20190051468 2019-01-20 12:57:00                         2   \n",
       "3      20190088097 2019-02-02 00:38:00                         2   \n",
       "4      20190091289 2019-02-03 13:25:00                         2   \n",
       "\n",
       "   Number of Injuries  Number of Fatalities Property Damage Hit and Run  \\\n",
       "0                   0                     0             NaN           N   \n",
       "1                   0                     0             NaN           Y   \n",
       "2                   0                     0             NaN           N   \n",
       "3                   0                     0             NaN           Y   \n",
       "4                   0                     0             NaN           N   \n",
       "\n",
       "   Reporting Officer  Collision Type Code      Collision Type Description  \\\n",
       "0           256374.0                  4.0                           ANGLE   \n",
       "1           405424.0                 11.0                   Front to Rear   \n",
       "2           834798.0                  6.0  SIDESWIPE - OPPOSITE DIRECTION   \n",
       "3           660929.0                  4.0                           ANGLE   \n",
       "4           212369.0                  4.0                           ANGLE   \n",
       "\n",
       "   ...                         Harmful Code Description  \\\n",
       "0  ...                       MOTOR VEHICLE IN TRANSPORT   \n",
       "1  ...                             PARKED MOTOR VEHICLE   \n",
       "2  ...                             PARKED MOTOR VEHICLE   \n",
       "3  ...  MOTOR VEHICLE IN TRANSPORT;PARKED MOTOR VEHICLE   \n",
       "4  ...                       MOTOR VEHICLE IN TRANSPORT   \n",
       "\n",
       "                             Street Address       City State      ZIP     RPA  \\\n",
       "0               BELL RD & CEDAR POINTE PKWY    ANTIOCH    TN  37013.0  8753.0   \n",
       "1                      3248 PERCY PRIEST DR  NASHVILLE    TN  37214.0  8955.0   \n",
       "2                           700 THOMPSON LN  NASHVILLE    TN  37204.0  8305.0   \n",
       "3                                 400 RADNO  NASHVILLE    TN      NaN     NaN   \n",
       "4  ELLINGTON AG CENTER PVTDR & EDMONDSON PK  NASHVILLE    TN  37220.0  8615.0   \n",
       "\n",
       "  Precinct Latitude Longitude           Mapped Location  \n",
       "0    SOUTH  36.0449  -86.6671  POINT (-86.6671 36.0449)  \n",
       "1   HERMIT  36.1531  -86.6291  POINT (-86.6291 36.1531)  \n",
       "2   MIDTOW  36.1122  -86.7625  POINT (-86.7625 36.1122)  \n",
       "3      NaN  36.0483  -86.4369  POINT (-86.4369 36.0483)  \n",
       "4   MIDTOW  36.0618  -86.7405  POINT (-86.7405 36.0618)  \n",
       "\n",
       "[5 rows x 25 columns]"
      ]
     },
     "execution_count": 43,
     "metadata": {},
     "output_type": "execute_result"
    }
   ],
   "source": [
    "# The values in the Date and Time column look different now\n",
    "accidents.head()"
   ]
  },
  {
   "cell_type": "code",
   "execution_count": 44,
   "metadata": {},
   "outputs": [
    {
     "data": {
      "text/plain": [
       "Timestamp('2019-01-15 19:40:00')"
      ]
     },
     "execution_count": 44,
     "metadata": {},
     "output_type": "execute_result"
    }
   ],
   "source": [
    "# And we can see each value is a timestamp\n",
    "accidents.loc[0, 'Date and Time']\n"
   ]
  },
  {
   "cell_type": "markdown",
   "metadata": {},
   "source": [
    "### Once you have a `datetime` object, you can pull out [individual parts](https://pandas.pydata.org/pandas-docs/stable/reference/api/pandas.Series.dt.html)\n",
    "- Use `.dt` to specify a datetime attribute/function and then what you want to pull out\n",
    "- Pull out the month from the 'Date and Time' column and save it to a new column called 'month'"
   ]
  },
  {
   "cell_type": "code",
   "execution_count": 45,
   "metadata": {},
   "outputs": [
    {
     "data": {
      "text/html": [
       "<div>\n",
       "<style scoped>\n",
       "    .dataframe tbody tr th:only-of-type {\n",
       "        vertical-align: middle;\n",
       "    }\n",
       "\n",
       "    .dataframe tbody tr th {\n",
       "        vertical-align: top;\n",
       "    }\n",
       "\n",
       "    .dataframe thead th {\n",
       "        text-align: right;\n",
       "    }\n",
       "</style>\n",
       "<table border=\"1\" class=\"dataframe\">\n",
       "  <thead>\n",
       "    <tr style=\"text-align: right;\">\n",
       "      <th></th>\n",
       "      <th>Accident Number</th>\n",
       "      <th>Date and Time</th>\n",
       "      <th>Number of Motor Vehicles</th>\n",
       "      <th>Number of Injuries</th>\n",
       "      <th>Number of Fatalities</th>\n",
       "      <th>Property Damage</th>\n",
       "      <th>Hit and Run</th>\n",
       "      <th>Reporting Officer</th>\n",
       "      <th>Collision Type Code</th>\n",
       "      <th>Collision Type Description</th>\n",
       "      <th>...</th>\n",
       "      <th>Street Address</th>\n",
       "      <th>City</th>\n",
       "      <th>State</th>\n",
       "      <th>ZIP</th>\n",
       "      <th>RPA</th>\n",
       "      <th>Precinct</th>\n",
       "      <th>Latitude</th>\n",
       "      <th>Longitude</th>\n",
       "      <th>Mapped Location</th>\n",
       "      <th>month</th>\n",
       "    </tr>\n",
       "  </thead>\n",
       "  <tbody>\n",
       "    <tr>\n",
       "      <th>0</th>\n",
       "      <td>20190038972</td>\n",
       "      <td>2019-01-15 19:40:00</td>\n",
       "      <td>2</td>\n",
       "      <td>0</td>\n",
       "      <td>0</td>\n",
       "      <td>NaN</td>\n",
       "      <td>N</td>\n",
       "      <td>256374.0</td>\n",
       "      <td>4.0</td>\n",
       "      <td>ANGLE</td>\n",
       "      <td>...</td>\n",
       "      <td>BELL RD &amp; CEDAR POINTE PKWY</td>\n",
       "      <td>ANTIOCH</td>\n",
       "      <td>TN</td>\n",
       "      <td>37013.0</td>\n",
       "      <td>8753.0</td>\n",
       "      <td>SOUTH</td>\n",
       "      <td>36.0449</td>\n",
       "      <td>-86.6671</td>\n",
       "      <td>POINT (-86.6671 36.0449)</td>\n",
       "      <td>1</td>\n",
       "    </tr>\n",
       "    <tr>\n",
       "      <th>1</th>\n",
       "      <td>20190045402</td>\n",
       "      <td>2019-01-17 23:09:00</td>\n",
       "      <td>2</td>\n",
       "      <td>0</td>\n",
       "      <td>0</td>\n",
       "      <td>NaN</td>\n",
       "      <td>Y</td>\n",
       "      <td>405424.0</td>\n",
       "      <td>11.0</td>\n",
       "      <td>Front to Rear</td>\n",
       "      <td>...</td>\n",
       "      <td>3248 PERCY PRIEST DR</td>\n",
       "      <td>NASHVILLE</td>\n",
       "      <td>TN</td>\n",
       "      <td>37214.0</td>\n",
       "      <td>8955.0</td>\n",
       "      <td>HERMIT</td>\n",
       "      <td>36.1531</td>\n",
       "      <td>-86.6291</td>\n",
       "      <td>POINT (-86.6291 36.1531)</td>\n",
       "      <td>1</td>\n",
       "    </tr>\n",
       "    <tr>\n",
       "      <th>2</th>\n",
       "      <td>20190051468</td>\n",
       "      <td>2019-01-20 12:57:00</td>\n",
       "      <td>2</td>\n",
       "      <td>0</td>\n",
       "      <td>0</td>\n",
       "      <td>NaN</td>\n",
       "      <td>N</td>\n",
       "      <td>834798.0</td>\n",
       "      <td>6.0</td>\n",
       "      <td>SIDESWIPE - OPPOSITE DIRECTION</td>\n",
       "      <td>...</td>\n",
       "      <td>700 THOMPSON LN</td>\n",
       "      <td>NASHVILLE</td>\n",
       "      <td>TN</td>\n",
       "      <td>37204.0</td>\n",
       "      <td>8305.0</td>\n",
       "      <td>MIDTOW</td>\n",
       "      <td>36.1122</td>\n",
       "      <td>-86.7625</td>\n",
       "      <td>POINT (-86.7625 36.1122)</td>\n",
       "      <td>1</td>\n",
       "    </tr>\n",
       "    <tr>\n",
       "      <th>3</th>\n",
       "      <td>20190088097</td>\n",
       "      <td>2019-02-02 00:38:00</td>\n",
       "      <td>2</td>\n",
       "      <td>0</td>\n",
       "      <td>0</td>\n",
       "      <td>NaN</td>\n",
       "      <td>Y</td>\n",
       "      <td>660929.0</td>\n",
       "      <td>4.0</td>\n",
       "      <td>ANGLE</td>\n",
       "      <td>...</td>\n",
       "      <td>400 RADNO</td>\n",
       "      <td>NASHVILLE</td>\n",
       "      <td>TN</td>\n",
       "      <td>NaN</td>\n",
       "      <td>NaN</td>\n",
       "      <td>NaN</td>\n",
       "      <td>36.0483</td>\n",
       "      <td>-86.4369</td>\n",
       "      <td>POINT (-86.4369 36.0483)</td>\n",
       "      <td>2</td>\n",
       "    </tr>\n",
       "    <tr>\n",
       "      <th>4</th>\n",
       "      <td>20190091289</td>\n",
       "      <td>2019-02-03 13:25:00</td>\n",
       "      <td>2</td>\n",
       "      <td>0</td>\n",
       "      <td>0</td>\n",
       "      <td>NaN</td>\n",
       "      <td>N</td>\n",
       "      <td>212369.0</td>\n",
       "      <td>4.0</td>\n",
       "      <td>ANGLE</td>\n",
       "      <td>...</td>\n",
       "      <td>ELLINGTON AG CENTER PVTDR &amp; EDMONDSON PK</td>\n",
       "      <td>NASHVILLE</td>\n",
       "      <td>TN</td>\n",
       "      <td>37220.0</td>\n",
       "      <td>8615.0</td>\n",
       "      <td>MIDTOW</td>\n",
       "      <td>36.0618</td>\n",
       "      <td>-86.7405</td>\n",
       "      <td>POINT (-86.7405 36.0618)</td>\n",
       "      <td>2</td>\n",
       "    </tr>\n",
       "  </tbody>\n",
       "</table>\n",
       "<p>5 rows × 26 columns</p>\n",
       "</div>"
      ],
      "text/plain": [
       "   Accident Number       Date and Time  Number of Motor Vehicles  \\\n",
       "0      20190038972 2019-01-15 19:40:00                         2   \n",
       "1      20190045402 2019-01-17 23:09:00                         2   \n",
       "2      20190051468 2019-01-20 12:57:00                         2   \n",
       "3      20190088097 2019-02-02 00:38:00                         2   \n",
       "4      20190091289 2019-02-03 13:25:00                         2   \n",
       "\n",
       "   Number of Injuries  Number of Fatalities Property Damage Hit and Run  \\\n",
       "0                   0                     0             NaN           N   \n",
       "1                   0                     0             NaN           Y   \n",
       "2                   0                     0             NaN           N   \n",
       "3                   0                     0             NaN           Y   \n",
       "4                   0                     0             NaN           N   \n",
       "\n",
       "   Reporting Officer  Collision Type Code      Collision Type Description  \\\n",
       "0           256374.0                  4.0                           ANGLE   \n",
       "1           405424.0                 11.0                   Front to Rear   \n",
       "2           834798.0                  6.0  SIDESWIPE - OPPOSITE DIRECTION   \n",
       "3           660929.0                  4.0                           ANGLE   \n",
       "4           212369.0                  4.0                           ANGLE   \n",
       "\n",
       "   ...                            Street Address       City  State      ZIP  \\\n",
       "0  ...               BELL RD & CEDAR POINTE PKWY    ANTIOCH     TN  37013.0   \n",
       "1  ...                      3248 PERCY PRIEST DR  NASHVILLE     TN  37214.0   \n",
       "2  ...                           700 THOMPSON LN  NASHVILLE     TN  37204.0   \n",
       "3  ...                                 400 RADNO  NASHVILLE     TN      NaN   \n",
       "4  ...  ELLINGTON AG CENTER PVTDR & EDMONDSON PK  NASHVILLE     TN  37220.0   \n",
       "\n",
       "      RPA Precinct Latitude Longitude           Mapped Location  month  \n",
       "0  8753.0    SOUTH  36.0449  -86.6671  POINT (-86.6671 36.0449)      1  \n",
       "1  8955.0   HERMIT  36.1531  -86.6291  POINT (-86.6291 36.1531)      1  \n",
       "2  8305.0   MIDTOW  36.1122  -86.7625  POINT (-86.7625 36.1122)      1  \n",
       "3     NaN      NaN  36.0483  -86.4369  POINT (-86.4369 36.0483)      2  \n",
       "4  8615.0   MIDTOW  36.0618  -86.7405  POINT (-86.7405 36.0618)      2  \n",
       "\n",
       "[5 rows x 26 columns]"
      ]
     },
     "execution_count": 45,
     "metadata": {},
     "output_type": "execute_result"
    }
   ],
   "source": [
    "accidents['month'] = accidents['Date and Time'].dt.month\n",
    "accidents.head()"
   ]
  },
  {
   "cell_type": "markdown",
   "metadata": {},
   "source": [
    "#### What is the maximum number of cars involved in a single accident in July?\n",
    "- subset the `accidents` DataFrame to get the July accidents\n",
    "- find the maximum `Number of Motor Vehicles` for accidents that happened in July\n"
   ]
  },
  {
   "cell_type": "code",
   "execution_count": 46,
   "metadata": {},
   "outputs": [
    {
     "data": {
      "text/html": [
       "<div>\n",
       "<style scoped>\n",
       "    .dataframe tbody tr th:only-of-type {\n",
       "        vertical-align: middle;\n",
       "    }\n",
       "\n",
       "    .dataframe tbody tr th {\n",
       "        vertical-align: top;\n",
       "    }\n",
       "\n",
       "    .dataframe thead th {\n",
       "        text-align: right;\n",
       "    }\n",
       "</style>\n",
       "<table border=\"1\" class=\"dataframe\">\n",
       "  <thead>\n",
       "    <tr style=\"text-align: right;\">\n",
       "      <th></th>\n",
       "      <th>Accident Number</th>\n",
       "      <th>Date and Time</th>\n",
       "      <th>Number of Motor Vehicles</th>\n",
       "      <th>Number of Injuries</th>\n",
       "      <th>Number of Fatalities</th>\n",
       "      <th>Property Damage</th>\n",
       "      <th>Hit and Run</th>\n",
       "      <th>Reporting Officer</th>\n",
       "      <th>Collision Type Code</th>\n",
       "      <th>Collision Type Description</th>\n",
       "      <th>...</th>\n",
       "      <th>Street Address</th>\n",
       "      <th>City</th>\n",
       "      <th>State</th>\n",
       "      <th>ZIP</th>\n",
       "      <th>RPA</th>\n",
       "      <th>Precinct</th>\n",
       "      <th>Latitude</th>\n",
       "      <th>Longitude</th>\n",
       "      <th>Mapped Location</th>\n",
       "      <th>month</th>\n",
       "    </tr>\n",
       "  </thead>\n",
       "  <tbody>\n",
       "    <tr>\n",
       "      <th>16</th>\n",
       "      <td>20190521589</td>\n",
       "      <td>2019-07-12 05:45:00</td>\n",
       "      <td>2</td>\n",
       "      <td>0</td>\n",
       "      <td>0</td>\n",
       "      <td>NaN</td>\n",
       "      <td>N</td>\n",
       "      <td>192379.0</td>\n",
       "      <td>11.0</td>\n",
       "      <td>Front to Rear</td>\n",
       "      <td>...</td>\n",
       "      <td>MM 87 0 I 65</td>\n",
       "      <td>NASHVILLE</td>\n",
       "      <td>TN</td>\n",
       "      <td>37207.0</td>\n",
       "      <td>18020.0</td>\n",
       "      <td>EAST</td>\n",
       "      <td>36.2018</td>\n",
       "      <td>-86.7766</td>\n",
       "      <td>POINT (-86.7766 36.2018)</td>\n",
       "      <td>7</td>\n",
       "    </tr>\n",
       "    <tr>\n",
       "      <th>17</th>\n",
       "      <td>20190537481</td>\n",
       "      <td>2019-07-18 14:51:00</td>\n",
       "      <td>4</td>\n",
       "      <td>0</td>\n",
       "      <td>0</td>\n",
       "      <td>NaN</td>\n",
       "      <td>N</td>\n",
       "      <td>716886.0</td>\n",
       "      <td>11.0</td>\n",
       "      <td>Front to Rear</td>\n",
       "      <td>...</td>\n",
       "      <td>MM 1 6 I 440</td>\n",
       "      <td>NASHVILLE</td>\n",
       "      <td>TN</td>\n",
       "      <td>37209.0</td>\n",
       "      <td>5230.0</td>\n",
       "      <td>WEST</td>\n",
       "      <td>36.1531</td>\n",
       "      <td>-86.8228</td>\n",
       "      <td>POINT (-86.8228 36.1531)</td>\n",
       "      <td>7</td>\n",
       "    </tr>\n",
       "    <tr>\n",
       "      <th>18</th>\n",
       "      <td>20190540298</td>\n",
       "      <td>2019-07-19 16:30:00</td>\n",
       "      <td>2</td>\n",
       "      <td>0</td>\n",
       "      <td>0</td>\n",
       "      <td>NaN</td>\n",
       "      <td>Y</td>\n",
       "      <td>299238.0</td>\n",
       "      <td>4.0</td>\n",
       "      <td>ANGLE</td>\n",
       "      <td>...</td>\n",
       "      <td>S 6TH ST &amp; WOODLAND ST</td>\n",
       "      <td>NASHVILLE</td>\n",
       "      <td>TN</td>\n",
       "      <td>37206.0</td>\n",
       "      <td>1117.0</td>\n",
       "      <td>EAST</td>\n",
       "      <td>36.1726</td>\n",
       "      <td>-86.7628</td>\n",
       "      <td>POINT (-86.7628 36.1726)</td>\n",
       "      <td>7</td>\n",
       "    </tr>\n",
       "    <tr>\n",
       "      <th>19</th>\n",
       "      <td>20190549470</td>\n",
       "      <td>2019-07-23 12:40:00</td>\n",
       "      <td>4</td>\n",
       "      <td>3</td>\n",
       "      <td>0</td>\n",
       "      <td>Y</td>\n",
       "      <td>N</td>\n",
       "      <td>902543.0</td>\n",
       "      <td>4.0</td>\n",
       "      <td>ANGLE</td>\n",
       "      <td>...</td>\n",
       "      <td>MM 90 7 I 65</td>\n",
       "      <td>MADISON</td>\n",
       "      <td>TN</td>\n",
       "      <td>37115.0</td>\n",
       "      <td>20044.0</td>\n",
       "      <td>MADISO</td>\n",
       "      <td>36.2444</td>\n",
       "      <td>-86.7473</td>\n",
       "      <td>POINT (-86.7473 36.2444)</td>\n",
       "      <td>7</td>\n",
       "    </tr>\n",
       "    <tr>\n",
       "      <th>20</th>\n",
       "      <td>20190552118</td>\n",
       "      <td>2019-07-24 11:15:00</td>\n",
       "      <td>2</td>\n",
       "      <td>2</td>\n",
       "      <td>0</td>\n",
       "      <td>NaN</td>\n",
       "      <td>N</td>\n",
       "      <td>332215.0</td>\n",
       "      <td>4.0</td>\n",
       "      <td>ANGLE</td>\n",
       "      <td>...</td>\n",
       "      <td>LOMBARDY AV &amp; HILLSBORO PKE</td>\n",
       "      <td>NASHVILLE</td>\n",
       "      <td>TN</td>\n",
       "      <td>NaN</td>\n",
       "      <td>6001.0</td>\n",
       "      <td>WEST</td>\n",
       "      <td>NaN</td>\n",
       "      <td>NaN</td>\n",
       "      <td>NaN</td>\n",
       "      <td>7</td>\n",
       "    </tr>\n",
       "  </tbody>\n",
       "</table>\n",
       "<p>5 rows × 26 columns</p>\n",
       "</div>"
      ],
      "text/plain": [
       "    Accident Number       Date and Time  Number of Motor Vehicles  \\\n",
       "16      20190521589 2019-07-12 05:45:00                         2   \n",
       "17      20190537481 2019-07-18 14:51:00                         4   \n",
       "18      20190540298 2019-07-19 16:30:00                         2   \n",
       "19      20190549470 2019-07-23 12:40:00                         4   \n",
       "20      20190552118 2019-07-24 11:15:00                         2   \n",
       "\n",
       "    Number of Injuries  Number of Fatalities Property Damage Hit and Run  \\\n",
       "16                   0                     0             NaN           N   \n",
       "17                   0                     0             NaN           N   \n",
       "18                   0                     0             NaN           Y   \n",
       "19                   3                     0               Y           N   \n",
       "20                   2                     0             NaN           N   \n",
       "\n",
       "    Reporting Officer  Collision Type Code Collision Type Description  ...  \\\n",
       "16           192379.0                 11.0              Front to Rear  ...   \n",
       "17           716886.0                 11.0              Front to Rear  ...   \n",
       "18           299238.0                  4.0                      ANGLE  ...   \n",
       "19           902543.0                  4.0                      ANGLE  ...   \n",
       "20           332215.0                  4.0                      ANGLE  ...   \n",
       "\n",
       "                 Street Address       City  State      ZIP      RPA Precinct  \\\n",
       "16                 MM 87 0 I 65  NASHVILLE     TN  37207.0  18020.0     EAST   \n",
       "17                 MM 1 6 I 440  NASHVILLE     TN  37209.0   5230.0     WEST   \n",
       "18       S 6TH ST & WOODLAND ST  NASHVILLE     TN  37206.0   1117.0     EAST   \n",
       "19                 MM 90 7 I 65    MADISON     TN  37115.0  20044.0   MADISO   \n",
       "20  LOMBARDY AV & HILLSBORO PKE  NASHVILLE     TN      NaN   6001.0     WEST   \n",
       "\n",
       "   Latitude Longitude           Mapped Location  month  \n",
       "16  36.2018  -86.7766  POINT (-86.7766 36.2018)      7  \n",
       "17  36.1531  -86.8228  POINT (-86.8228 36.1531)      7  \n",
       "18  36.1726  -86.7628  POINT (-86.7628 36.1726)      7  \n",
       "19  36.2444  -86.7473  POINT (-86.7473 36.2444)      7  \n",
       "20      NaN       NaN                       NaN      7  \n",
       "\n",
       "[5 rows x 26 columns]"
      ]
     },
     "execution_count": 46,
     "metadata": {},
     "output_type": "execute_result"
    }
   ],
   "source": [
    "july_accidents = accidents[accidents['month']==7]\n",
    "july_accidents.head()"
   ]
  },
  {
   "cell_type": "code",
   "execution_count": 47,
   "metadata": {},
   "outputs": [
    {
     "data": {
      "text/plain": [
       "np.int64(8)"
      ]
     },
     "execution_count": 47,
     "metadata": {},
     "output_type": "execute_result"
    }
   ],
   "source": [
    "july_accidents['Number of Motor Vehicles'].max()"
   ]
  },
  {
   "cell_type": "code",
   "execution_count": 48,
   "metadata": {},
   "outputs": [
    {
     "data": {
      "text/html": [
       "<div>\n",
       "<style scoped>\n",
       "    .dataframe tbody tr th:only-of-type {\n",
       "        vertical-align: middle;\n",
       "    }\n",
       "\n",
       "    .dataframe tbody tr th {\n",
       "        vertical-align: top;\n",
       "    }\n",
       "\n",
       "    .dataframe thead th {\n",
       "        text-align: right;\n",
       "    }\n",
       "</style>\n",
       "<table border=\"1\" class=\"dataframe\">\n",
       "  <thead>\n",
       "    <tr style=\"text-align: right;\">\n",
       "      <th></th>\n",
       "      <th>Accident Number</th>\n",
       "      <th>Date and Time</th>\n",
       "      <th>Number of Motor Vehicles</th>\n",
       "      <th>Number of Injuries</th>\n",
       "      <th>Number of Fatalities</th>\n",
       "      <th>Property Damage</th>\n",
       "      <th>Hit and Run</th>\n",
       "      <th>Reporting Officer</th>\n",
       "      <th>Collision Type Code</th>\n",
       "      <th>Collision Type Description</th>\n",
       "      <th>...</th>\n",
       "      <th>Street Address</th>\n",
       "      <th>City</th>\n",
       "      <th>State</th>\n",
       "      <th>ZIP</th>\n",
       "      <th>RPA</th>\n",
       "      <th>Precinct</th>\n",
       "      <th>Latitude</th>\n",
       "      <th>Longitude</th>\n",
       "      <th>Mapped Location</th>\n",
       "      <th>month</th>\n",
       "    </tr>\n",
       "  </thead>\n",
       "  <tbody>\n",
       "    <tr>\n",
       "      <th>1818</th>\n",
       "      <td>20190560008</td>\n",
       "      <td>2019-07-27 14:45:00</td>\n",
       "      <td>8</td>\n",
       "      <td>0</td>\n",
       "      <td>0</td>\n",
       "      <td>NaN</td>\n",
       "      <td>Y</td>\n",
       "      <td>299267.0</td>\n",
       "      <td>11.0</td>\n",
       "      <td>Front to Rear</td>\n",
       "      <td>...</td>\n",
       "      <td>MM 1 4 I 440</td>\n",
       "      <td>NASHVILLE</td>\n",
       "      <td>TN</td>\n",
       "      <td>37209.0</td>\n",
       "      <td>52320.0</td>\n",
       "      <td>WEST</td>\n",
       "      <td>36.1496</td>\n",
       "      <td>-86.8227</td>\n",
       "      <td>POINT (-86.8227 36.1496)</td>\n",
       "      <td>7</td>\n",
       "    </tr>\n",
       "    <tr>\n",
       "      <th>5945</th>\n",
       "      <td>20190534880</td>\n",
       "      <td>2019-07-17 15:50:00</td>\n",
       "      <td>6</td>\n",
       "      <td>2</td>\n",
       "      <td>0</td>\n",
       "      <td>NaN</td>\n",
       "      <td>N</td>\n",
       "      <td>717341.0</td>\n",
       "      <td>4.0</td>\n",
       "      <td>ANGLE</td>\n",
       "      <td>...</td>\n",
       "      <td>MURFREESBORO PKE &amp; EZELL PKE</td>\n",
       "      <td>NASHVILLE</td>\n",
       "      <td>TN</td>\n",
       "      <td>37217.0</td>\n",
       "      <td>8841.0</td>\n",
       "      <td>SOUTH</td>\n",
       "      <td>36.1057</td>\n",
       "      <td>-86.6719</td>\n",
       "      <td>POINT (-86.6719 36.1057)</td>\n",
       "      <td>7</td>\n",
       "    </tr>\n",
       "    <tr>\n",
       "      <th>394</th>\n",
       "      <td>20190525762</td>\n",
       "      <td>2019-07-14 00:55:00</td>\n",
       "      <td>5</td>\n",
       "      <td>2</td>\n",
       "      <td>0</td>\n",
       "      <td>NaN</td>\n",
       "      <td>N</td>\n",
       "      <td>299274.0</td>\n",
       "      <td>11.0</td>\n",
       "      <td>Front to Rear</td>\n",
       "      <td>...</td>\n",
       "      <td>MM 210 8 I 40</td>\n",
       "      <td>NASHVILLE</td>\n",
       "      <td>TN</td>\n",
       "      <td>37210.0</td>\n",
       "      <td>40080.0</td>\n",
       "      <td>CENTRA</td>\n",
       "      <td>36.1544</td>\n",
       "      <td>-86.7625</td>\n",
       "      <td>POINT (-86.7625 36.1544)</td>\n",
       "      <td>7</td>\n",
       "    </tr>\n",
       "    <tr>\n",
       "      <th>1403</th>\n",
       "      <td>20190547162</td>\n",
       "      <td>2019-07-22 15:45:00</td>\n",
       "      <td>5</td>\n",
       "      <td>3</td>\n",
       "      <td>0</td>\n",
       "      <td>NaN</td>\n",
       "      <td>N</td>\n",
       "      <td>352172.0</td>\n",
       "      <td>11.0</td>\n",
       "      <td>Front to Rear</td>\n",
       "      <td>...</td>\n",
       "      <td>OLD HICKORY BLVD &amp; HIGHWAY 70S</td>\n",
       "      <td>NASHVILLE</td>\n",
       "      <td>TN</td>\n",
       "      <td>37221.0</td>\n",
       "      <td>4901.0</td>\n",
       "      <td>WEST</td>\n",
       "      <td>36.0742</td>\n",
       "      <td>-86.9208</td>\n",
       "      <td>POINT (-86.9208 36.0742)</td>\n",
       "      <td>7</td>\n",
       "    </tr>\n",
       "  </tbody>\n",
       "</table>\n",
       "<p>4 rows × 26 columns</p>\n",
       "</div>"
      ],
      "text/plain": [
       "      Accident Number       Date and Time  Number of Motor Vehicles  \\\n",
       "1818      20190560008 2019-07-27 14:45:00                         8   \n",
       "5945      20190534880 2019-07-17 15:50:00                         6   \n",
       "394       20190525762 2019-07-14 00:55:00                         5   \n",
       "1403      20190547162 2019-07-22 15:45:00                         5   \n",
       "\n",
       "      Number of Injuries  Number of Fatalities Property Damage Hit and Run  \\\n",
       "1818                   0                     0             NaN           Y   \n",
       "5945                   2                     0             NaN           N   \n",
       "394                    2                     0             NaN           N   \n",
       "1403                   3                     0             NaN           N   \n",
       "\n",
       "      Reporting Officer  Collision Type Code Collision Type Description  ...  \\\n",
       "1818           299267.0                 11.0              Front to Rear  ...   \n",
       "5945           717341.0                  4.0                      ANGLE  ...   \n",
       "394            299274.0                 11.0              Front to Rear  ...   \n",
       "1403           352172.0                 11.0              Front to Rear  ...   \n",
       "\n",
       "                      Street Address       City  State      ZIP      RPA  \\\n",
       "1818                    MM 1 4 I 440  NASHVILLE     TN  37209.0  52320.0   \n",
       "5945    MURFREESBORO PKE & EZELL PKE  NASHVILLE     TN  37217.0   8841.0   \n",
       "394                    MM 210 8 I 40  NASHVILLE     TN  37210.0  40080.0   \n",
       "1403  OLD HICKORY BLVD & HIGHWAY 70S  NASHVILLE     TN  37221.0   4901.0   \n",
       "\n",
       "     Precinct Latitude Longitude           Mapped Location  month  \n",
       "1818     WEST  36.1496  -86.8227  POINT (-86.8227 36.1496)      7  \n",
       "5945    SOUTH  36.1057  -86.6719  POINT (-86.6719 36.1057)      7  \n",
       "394    CENTRA  36.1544  -86.7625  POINT (-86.7625 36.1544)      7  \n",
       "1403     WEST  36.0742  -86.9208  POINT (-86.9208 36.0742)      7  \n",
       "\n",
       "[4 rows x 26 columns]"
      ]
     },
     "execution_count": 48,
     "metadata": {},
     "output_type": "execute_result"
    }
   ],
   "source": [
    "july_accidents.nlargest(4, 'Number of Motor Vehicles')"
   ]
  },
  {
   "cell_type": "code",
   "execution_count": 49,
   "metadata": {},
   "outputs": [],
   "source": [
    "#top of anything in a dataframe nlargest\n",
    "\n"
   ]
  },
  {
   "cell_type": "code",
   "execution_count": 50,
   "metadata": {},
   "outputs": [
    {
     "data": {
      "text/plain": [
       "np.int64(2622)"
      ]
     },
     "execution_count": 50,
     "metadata": {},
     "output_type": "execute_result"
    }
   ],
   "source": [
    "# How many accidents happened in December?\n",
    "(accidents['month']==12).sum()"
   ]
  },
  {
   "cell_type": "markdown",
   "metadata": {},
   "source": [
    "### There are [many different attributes associated with datetimes](https://towardsdatascience.com/working-with-datetime-in-pandas-dataframe-663f7af6c587)"
   ]
  },
  {
   "cell_type": "code",
   "execution_count": 51,
   "metadata": {},
   "outputs": [
    {
     "data": {
      "text/plain": [
       "0    19:40:00\n",
       "1    23:09:00\n",
       "2    12:57:00\n",
       "3    00:38:00\n",
       "4    13:25:00\n",
       "Name: Date and Time, dtype: object"
      ]
     },
     "execution_count": 51,
     "metadata": {},
     "output_type": "execute_result"
    }
   ],
   "source": [
    "accidents['Date and Time'].dt.time.head()"
   ]
  },
  {
   "cell_type": "code",
   "execution_count": 52,
   "metadata": {},
   "outputs": [
    {
     "data": {
      "text/plain": [
       "0    2019-01-15\n",
       "1    2019-01-17\n",
       "2    2019-01-20\n",
       "3    2019-02-02\n",
       "4    2019-02-03\n",
       "Name: Date and Time, dtype: object"
      ]
     },
     "execution_count": 52,
     "metadata": {},
     "output_type": "execute_result"
    }
   ],
   "source": [
    "accidents['Date and Time'].dt.date.head()"
   ]
  },
  {
   "cell_type": "code",
   "execution_count": 53,
   "metadata": {},
   "outputs": [
    {
     "data": {
      "text/plain": [
       "0    1\n",
       "1    3\n",
       "2    6\n",
       "3    5\n",
       "4    6\n",
       "Name: Date and Time, dtype: int32"
      ]
     },
     "execution_count": 53,
     "metadata": {},
     "output_type": "execute_result"
    }
   ],
   "source": [
    "accidents['Date and Time'].dt.weekday.head()"
   ]
  },
  {
   "cell_type": "code",
   "execution_count": 54,
   "metadata": {},
   "outputs": [
    {
     "data": {
      "text/plain": [
       "0    False\n",
       "1    False\n",
       "2    False\n",
       "3    False\n",
       "4    False\n",
       "Name: Date and Time, dtype: bool"
      ]
     },
     "execution_count": 54,
     "metadata": {},
     "output_type": "execute_result"
    }
   ],
   "source": [
    "accidents['Date and Time'].dt.is_leap_year.head()"
   ]
  },
  {
   "cell_type": "markdown",
   "metadata": {},
   "source": [
    "### You can use comparison symbols on `datetime` objects as well"
   ]
  },
  {
   "cell_type": "code",
   "execution_count": 55,
   "metadata": {},
   "outputs": [
    {
     "data": {
      "text/plain": [
       "5558"
      ]
     },
     "execution_count": 55,
     "metadata": {},
     "output_type": "execute_result"
    }
   ],
   "source": [
    "# How many accidents happened before March 3\n",
    "sum(accidents['Date and Time'] < '03/03/2019')\n",
    "\n",
    "# Note: You have to input the comparison value as a string,\n",
    "# but the format can vary and pandas will attempt to infer the format.\n",
    "# Try putting in different formats and rerunning this cell."
   ]
  },
  {
   "cell_type": "markdown",
   "metadata": {},
   "source": [
    "### You can also perform calculations on `datetime` objects"
   ]
  },
  {
   "cell_type": "code",
   "execution_count": 56,
   "metadata": {},
   "outputs": [
    {
     "data": {
      "text/plain": [
       "Timedelta('81 days 16:05:00')"
      ]
     },
     "execution_count": 56,
     "metadata": {},
     "output_type": "execute_result"
    }
   ],
   "source": [
    "# How long between the 1st and 101th accident?\n",
    "accidents = accidents.sort_values('Date and Time')\n",
    "accidents.loc[100, 'Date and Time'] - accidents.loc[0, 'Date and Time']\n",
    "\n",
    "# It appears as a Timedelta, or a change in time"
   ]
  },
  {
   "cell_type": "markdown",
   "metadata": {},
   "source": [
    "# End of Instruction"
   ]
  },
  {
   "cell_type": "markdown",
   "metadata": {},
   "source": [
    "### Use PGAdmin to get the player info for all players, if they are in the Hall of fame, also pull that data.   \n",
    "### Save those results as a .csv and read them into this notebook in the cell below"
   ]
  },
  {
   "cell_type": "code",
   "execution_count": 57,
   "metadata": {},
   "outputs": [
    {
     "name": "stderr",
     "output_type": "stream",
     "text": [
      "/var/folders/q1/g8w_03zs6gvbwv16kzb3fvk80000gn/T/ipykernel_36264/1199384572.py:1: DtypeWarning: Columns (25,29,30,31) have mixed types. Specify dtype option on import or set low_memory=False.\n",
      "  players = pd.read_csv('/Users/jonathanfarro/Documents/NSS/Python/data/bbplayers.csv')\n"
     ]
    },
    {
     "data": {
      "text/plain": [
       "Index(['playerid', 'birthyear', 'birthmonth', 'birthday', 'birthcountry',\n",
       "       'birthstate', 'birthcity', 'deathyear', 'deathmonth', 'deathday',\n",
       "       'deathcountry', 'deathstate', 'deathcity', 'namefirst', 'namelast',\n",
       "       'namegiven', 'weight', 'height', 'bats', 'throws', 'debut', 'finalgame',\n",
       "       'retroid', 'bbrefid', 'yearid', 'votedby', 'ballots', 'needed', 'votes',\n",
       "       'inducted', 'category', 'needed_note'],\n",
       "      dtype='object')"
      ]
     },
     "execution_count": 57,
     "metadata": {},
     "output_type": "execute_result"
    }
   ],
   "source": [
    "players = pd.read_csv('/Users/jonathanfarro/Documents/NSS/Python/data/bbplayers.csv')\n",
    "players.columns"
   ]
  },
  {
   "cell_type": "markdown",
   "metadata": {},
   "source": [
    "### Convert the debut and final game info into Datetime"
   ]
  },
  {
   "cell_type": "code",
   "execution_count": null,
   "metadata": {},
   "outputs": [],
   "source": [
    "players = players.rename(columns= {'inducted':'hall_of_fame'})\n",
    "\n"
   ]
  },
  {
   "cell_type": "code",
   "execution_count": null,
   "metadata": {},
   "outputs": [],
   "source": [
    "players = players.drop(columns =['playerid', 'birthyear', 'birthmonth', 'birthday', 'birthcountry',\n",
    "                                 'birthstate', 'birthcity', 'deathyear', 'deathmonth', 'deathday',\n",
    "                                 'deathcountry', 'deathstate', 'deathcity', 'namefirst', 'namelast',\n",
    "                                 'namegiven', 'bats', 'throws','retroid', 'bbrefid',  \n",
    "                                 'votedby', 'ballots', 'needed', 'votes', 'needed_note'])\n"
   ]
  },
  {
   "cell_type": "code",
   "execution_count": null,
   "metadata": {},
   "outputs": [],
   "source": [
    "players['debut'] = pd.to_datetime(players.debut)\n",
    "players['finalgame'] = pd.to_datetime(players.finalgame)\n"
   ]
  },
  {
   "cell_type": "code",
   "execution_count": 78,
   "metadata": {},
   "outputs": [
    {
     "data": {
      "text/html": [
       "<div>\n",
       "<style scoped>\n",
       "    .dataframe tbody tr th:only-of-type {\n",
       "        vertical-align: middle;\n",
       "    }\n",
       "\n",
       "    .dataframe tbody tr th {\n",
       "        vertical-align: top;\n",
       "    }\n",
       "\n",
       "    .dataframe thead th {\n",
       "        text-align: right;\n",
       "    }\n",
       "</style>\n",
       "<table border=\"1\" class=\"dataframe\">\n",
       "  <thead>\n",
       "    <tr style=\"text-align: right;\">\n",
       "      <th></th>\n",
       "      <th>weight</th>\n",
       "      <th>height</th>\n",
       "      <th>debut</th>\n",
       "      <th>finalgame</th>\n",
       "      <th>yearid</th>\n",
       "      <th>hall_of_fame</th>\n",
       "      <th>category</th>\n",
       "      <th>final_vs_debut</th>\n",
       "    </tr>\n",
       "  </thead>\n",
       "  <tbody>\n",
       "    <tr>\n",
       "      <th>0</th>\n",
       "      <td>175.0</td>\n",
       "      <td>73.0</td>\n",
       "      <td>1905-08-30</td>\n",
       "      <td>1928-09-11</td>\n",
       "      <td>1936.0</td>\n",
       "      <td>Y</td>\n",
       "      <td>Player</td>\n",
       "      <td>8413 days</td>\n",
       "    </tr>\n",
       "    <tr>\n",
       "      <th>1</th>\n",
       "      <td>215.0</td>\n",
       "      <td>74.0</td>\n",
       "      <td>1914-07-11</td>\n",
       "      <td>1935-05-30</td>\n",
       "      <td>1936.0</td>\n",
       "      <td>Y</td>\n",
       "      <td>Player</td>\n",
       "      <td>7628 days</td>\n",
       "    </tr>\n",
       "    <tr>\n",
       "      <th>2</th>\n",
       "      <td>200.0</td>\n",
       "      <td>71.0</td>\n",
       "      <td>1897-07-19</td>\n",
       "      <td>1917-09-17</td>\n",
       "      <td>1936.0</td>\n",
       "      <td>Y</td>\n",
       "      <td>Player</td>\n",
       "      <td>7364 days</td>\n",
       "    </tr>\n",
       "    <tr>\n",
       "      <th>3</th>\n",
       "      <td>195.0</td>\n",
       "      <td>73.0</td>\n",
       "      <td>1900-07-17</td>\n",
       "      <td>1916-09-04</td>\n",
       "      <td>1936.0</td>\n",
       "      <td>Y</td>\n",
       "      <td>Player</td>\n",
       "      <td>5893 days</td>\n",
       "    </tr>\n",
       "    <tr>\n",
       "      <th>4</th>\n",
       "      <td>200.0</td>\n",
       "      <td>73.0</td>\n",
       "      <td>1907-08-02</td>\n",
       "      <td>1927-09-30</td>\n",
       "      <td>1936.0</td>\n",
       "      <td>Y</td>\n",
       "      <td>Player</td>\n",
       "      <td>7364 days</td>\n",
       "    </tr>\n",
       "    <tr>\n",
       "      <th>...</th>\n",
       "      <td>...</td>\n",
       "      <td>...</td>\n",
       "      <td>...</td>\n",
       "      <td>...</td>\n",
       "      <td>...</td>\n",
       "      <td>...</td>\n",
       "      <td>...</td>\n",
       "      <td>...</td>\n",
       "    </tr>\n",
       "    <tr>\n",
       "      <th>22003</th>\n",
       "      <td>165.0</td>\n",
       "      <td>75.0</td>\n",
       "      <td>2001-07-25</td>\n",
       "      <td>2010-04-29</td>\n",
       "      <td>NaN</td>\n",
       "      <td>NaN</td>\n",
       "      <td>NaN</td>\n",
       "      <td>3200 days</td>\n",
       "    </tr>\n",
       "    <tr>\n",
       "      <th>22004</th>\n",
       "      <td>190.0</td>\n",
       "      <td>72.0</td>\n",
       "      <td>1987-09-16</td>\n",
       "      <td>1989-10-01</td>\n",
       "      <td>NaN</td>\n",
       "      <td>NaN</td>\n",
       "      <td>NaN</td>\n",
       "      <td>746 days</td>\n",
       "    </tr>\n",
       "    <tr>\n",
       "      <th>22005</th>\n",
       "      <td>165.0</td>\n",
       "      <td>70.0</td>\n",
       "      <td>1931-04-27</td>\n",
       "      <td>1931-09-27</td>\n",
       "      <td>NaN</td>\n",
       "      <td>NaN</td>\n",
       "      <td>NaN</td>\n",
       "      <td>153 days</td>\n",
       "    </tr>\n",
       "    <tr>\n",
       "      <th>22006</th>\n",
       "      <td>165.0</td>\n",
       "      <td>72.0</td>\n",
       "      <td>1917-07-05</td>\n",
       "      <td>1922-04-17</td>\n",
       "      <td>NaN</td>\n",
       "      <td>NaN</td>\n",
       "      <td>NaN</td>\n",
       "      <td>1747 days</td>\n",
       "    </tr>\n",
       "    <tr>\n",
       "      <th>22007</th>\n",
       "      <td>200.0</td>\n",
       "      <td>74.0</td>\n",
       "      <td>2016-04-07</td>\n",
       "      <td>2016-07-21</td>\n",
       "      <td>NaN</td>\n",
       "      <td>NaN</td>\n",
       "      <td>NaN</td>\n",
       "      <td>105 days</td>\n",
       "    </tr>\n",
       "  </tbody>\n",
       "</table>\n",
       "<p>22008 rows × 8 columns</p>\n",
       "</div>"
      ],
      "text/plain": [
       "       weight  height      debut  finalgame  yearid hall_of_fame category  \\\n",
       "0       175.0    73.0 1905-08-30 1928-09-11  1936.0            Y   Player   \n",
       "1       215.0    74.0 1914-07-11 1935-05-30  1936.0            Y   Player   \n",
       "2       200.0    71.0 1897-07-19 1917-09-17  1936.0            Y   Player   \n",
       "3       195.0    73.0 1900-07-17 1916-09-04  1936.0            Y   Player   \n",
       "4       200.0    73.0 1907-08-02 1927-09-30  1936.0            Y   Player   \n",
       "...       ...     ...        ...        ...     ...          ...      ...   \n",
       "22003   165.0    75.0 2001-07-25 2010-04-29     NaN          NaN      NaN   \n",
       "22004   190.0    72.0 1987-09-16 1989-10-01     NaN          NaN      NaN   \n",
       "22005   165.0    70.0 1931-04-27 1931-09-27     NaN          NaN      NaN   \n",
       "22006   165.0    72.0 1917-07-05 1922-04-17     NaN          NaN      NaN   \n",
       "22007   200.0    74.0 2016-04-07 2016-07-21     NaN          NaN      NaN   \n",
       "\n",
       "      final_vs_debut  \n",
       "0          8413 days  \n",
       "1          7628 days  \n",
       "2          7364 days  \n",
       "3          5893 days  \n",
       "4          7364 days  \n",
       "...              ...  \n",
       "22003      3200 days  \n",
       "22004       746 days  \n",
       "22005       153 days  \n",
       "22006      1747 days  \n",
       "22007       105 days  \n",
       "\n",
       "[22008 rows x 8 columns]"
      ]
     },
     "execution_count": 78,
     "metadata": {},
     "output_type": "execute_result"
    }
   ],
   "source": [
    "players\n",
    "\n"
   ]
  },
  {
   "cell_type": "markdown",
   "metadata": {},
   "source": [
    "### Find the difference in debut and final game for all players"
   ]
  },
  {
   "cell_type": "code",
   "execution_count": 62,
   "metadata": {},
   "outputs": [],
   "source": [
    "players['final_vs_debut'] = (players.finalgame - players.debut)\n",
    "\n"
   ]
  },
  {
   "cell_type": "code",
   "execution_count": 97,
   "metadata": {},
   "outputs": [
    {
     "data": {
      "text/html": [
       "<div>\n",
       "<style scoped>\n",
       "    .dataframe tbody tr th:only-of-type {\n",
       "        vertical-align: middle;\n",
       "    }\n",
       "\n",
       "    .dataframe tbody tr th {\n",
       "        vertical-align: top;\n",
       "    }\n",
       "\n",
       "    .dataframe thead th {\n",
       "        text-align: right;\n",
       "    }\n",
       "</style>\n",
       "<table border=\"1\" class=\"dataframe\">\n",
       "  <thead>\n",
       "    <tr style=\"text-align: right;\">\n",
       "      <th></th>\n",
       "      <th>final_vs_debut</th>\n",
       "      <th>hall_of_fame</th>\n",
       "    </tr>\n",
       "  </thead>\n",
       "  <tbody>\n",
       "    <tr>\n",
       "      <th>0</th>\n",
       "      <td>-4 days</td>\n",
       "      <td>77</td>\n",
       "    </tr>\n",
       "    <tr>\n",
       "      <th>1</th>\n",
       "      <td>361 days</td>\n",
       "      <td>7</td>\n",
       "    </tr>\n",
       "    <tr>\n",
       "      <th>2</th>\n",
       "      <td>726 days</td>\n",
       "      <td>0</td>\n",
       "    </tr>\n",
       "    <tr>\n",
       "      <th>3</th>\n",
       "      <td>1091 days</td>\n",
       "      <td>4</td>\n",
       "    </tr>\n",
       "    <tr>\n",
       "      <th>4</th>\n",
       "      <td>1456 days</td>\n",
       "      <td>4</td>\n",
       "    </tr>\n",
       "    <tr>\n",
       "      <th>5</th>\n",
       "      <td>1821 days</td>\n",
       "      <td>4</td>\n",
       "    </tr>\n",
       "    <tr>\n",
       "      <th>6</th>\n",
       "      <td>2186 days</td>\n",
       "      <td>17</td>\n",
       "    </tr>\n",
       "    <tr>\n",
       "      <th>7</th>\n",
       "      <td>2551 days</td>\n",
       "      <td>12</td>\n",
       "    </tr>\n",
       "    <tr>\n",
       "      <th>8</th>\n",
       "      <td>2916 days</td>\n",
       "      <td>68</td>\n",
       "    </tr>\n",
       "    <tr>\n",
       "      <th>9</th>\n",
       "      <td>3281 days</td>\n",
       "      <td>115</td>\n",
       "    </tr>\n",
       "  </tbody>\n",
       "</table>\n",
       "</div>"
      ],
      "text/plain": [
       "  final_vs_debut  hall_of_fame\n",
       "0        -4 days            77\n",
       "1       361 days             7\n",
       "2       726 days             0\n",
       "3      1091 days             4\n",
       "4      1456 days             4\n",
       "5      1821 days             4\n",
       "6      2186 days            17\n",
       "7      2551 days            12\n",
       "8      2916 days            68\n",
       "9      3281 days           115"
      ]
     },
     "execution_count": 97,
     "metadata": {},
     "output_type": "execute_result"
    }
   ],
   "source": [
    "\n",
    ")"
   ]
  },
  {
   "cell_type": "markdown",
   "metadata": {},
   "source": [
    "### Next compare that difference among all players, hall of fame players, and players not in the hall of fame"
   ]
  },
  {
   "cell_type": "code",
   "execution_count": null,
   "metadata": {},
   "outputs": [],
   "source": []
  },
  {
   "cell_type": "code",
   "execution_count": null,
   "metadata": {},
   "outputs": [],
   "source": []
  },
  {
   "cell_type": "code",
   "execution_count": null,
   "metadata": {},
   "outputs": [],
   "source": []
  },
  {
   "cell_type": "code",
   "execution_count": null,
   "metadata": {},
   "outputs": [],
   "source": []
  }
 ],
 "metadata": {
  "kernelspec": {
   "display_name": "Python 3 (ipykernel)",
   "language": "python",
   "name": "python3"
  },
  "language_info": {
   "codemirror_mode": {
    "name": "ipython",
    "version": 3
   },
   "file_extension": ".py",
   "mimetype": "text/x-python",
   "name": "python",
   "nbconvert_exporter": "python",
   "pygments_lexer": "ipython3",
   "version": "3.12.4"
  }
 },
 "nbformat": 4,
 "nbformat_minor": 4
}
